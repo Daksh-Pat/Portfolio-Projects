{
 "cells": [
  {
   "cell_type": "markdown",
   "metadata": {},
   "source": [
    "# Summary"
   ]
  },
  {
   "cell_type": "markdown",
   "metadata": {},
   "source": [
    "By the end of this notebook we will look at the daily close values of the S&P 500 Index from the date of June 3rd, 2013. After which we will assess the linearity of all time records and apply 3 different types of machine learning models and assess which is the greatest fit for predicting the value of the S&P 500 Index."
   ]
  },
  {
   "cell_type": "code",
<<<<<<< Updated upstream
   "execution_count": 60,
=======
   "execution_count": 61,
>>>>>>> Stashed changes
   "metadata": {
    "pycharm": {
     "is_executing": true
    }
   },
   "outputs": [
    {
     "name": "stdout",
     "output_type": "stream",
     "text": [
      "Setup Complete\n"
     ]
    }
   ],
   "source": [
    "import pandas as pd\n",
    "import numpy as np\n",
    "import seaborn as sns\n",
<<<<<<< Updated upstream
    "import scipy as sp\n",
=======
>>>>>>> Stashed changes
    "from sklearn.linear_model import LinearRegression\n",
    "from sklearn.tree import DecisionTreeRegressor\n",
    "from sklearn.metrics import mean_absolute_error\n",
    "from sklearn.ensemble import RandomForestRegressor\n",
    "print(\"Setup Complete\")"
   ]
  },
  {
   "cell_type": "code",
<<<<<<< Updated upstream
   "execution_count": 4,
=======
   "execution_count": 63,
>>>>>>> Stashed changes
   "metadata": {},
   "outputs": [
    {
     "data": {
      "text/html": [
       "<div>\n",
       "<style scoped>\n",
       "    .dataframe tbody tr th:only-of-type {\n",
       "        vertical-align: middle;\n",
       "    }\n",
       "\n",
       "    .dataframe tbody tr th {\n",
       "        vertical-align: top;\n",
       "    }\n",
       "\n",
       "    .dataframe thead th {\n",
       "        text-align: right;\n",
       "    }\n",
       "</style>\n",
       "<table border=\"1\" class=\"dataframe\">\n",
       "  <thead>\n",
       "    <tr style=\"text-align: right;\">\n",
       "      <th></th>\n",
       "      <th>date</th>\n",
       "      <th>open</th>\n",
       "      <th>high</th>\n",
       "      <th>low</th>\n",
       "      <th>close</th>\n",
       "      <th>adj_close</th>\n",
       "      <th>volume</th>\n",
       "    </tr>\n",
       "  </thead>\n",
       "  <tbody>\n",
       "    <tr>\n",
       "      <th>0</th>\n",
       "      <td>2012-01-03</td>\n",
       "      <td>1258.859985</td>\n",
       "      <td>1284.619995</td>\n",
       "      <td>1258.859985</td>\n",
       "      <td>1277.060059</td>\n",
       "      <td>1277.060059</td>\n",
       "      <td>3943710000</td>\n",
       "    </tr>\n",
       "    <tr>\n",
       "      <th>1</th>\n",
       "      <td>2012-01-04</td>\n",
       "      <td>1277.030029</td>\n",
       "      <td>1278.729980</td>\n",
       "      <td>1268.099976</td>\n",
       "      <td>1277.300049</td>\n",
       "      <td>1277.300049</td>\n",
       "      <td>3592580000</td>\n",
       "    </tr>\n",
       "    <tr>\n",
       "      <th>2</th>\n",
       "      <td>2012-01-05</td>\n",
       "      <td>1277.300049</td>\n",
       "      <td>1283.050049</td>\n",
       "      <td>1265.260010</td>\n",
       "      <td>1281.060059</td>\n",
       "      <td>1281.060059</td>\n",
       "      <td>4315950000</td>\n",
       "    </tr>\n",
       "    <tr>\n",
       "      <th>3</th>\n",
       "      <td>2012-01-06</td>\n",
       "      <td>1280.930054</td>\n",
       "      <td>1281.839966</td>\n",
       "      <td>1273.339966</td>\n",
       "      <td>1277.810059</td>\n",
       "      <td>1277.810059</td>\n",
       "      <td>3656830000</td>\n",
       "    </tr>\n",
       "    <tr>\n",
       "      <th>4</th>\n",
       "      <td>2012-01-09</td>\n",
       "      <td>1277.829956</td>\n",
       "      <td>1281.989990</td>\n",
       "      <td>1274.550049</td>\n",
       "      <td>1280.699951</td>\n",
       "      <td>1280.699951</td>\n",
       "      <td>3371600000</td>\n",
       "    </tr>\n",
       "    <tr>\n",
       "      <th>...</th>\n",
       "      <td>...</td>\n",
       "      <td>...</td>\n",
       "      <td>...</td>\n",
       "      <td>...</td>\n",
       "      <td>...</td>\n",
       "      <td>...</td>\n",
       "      <td>...</td>\n",
       "    </tr>\n",
       "    <tr>\n",
       "      <th>1253</th>\n",
       "      <td>2016-12-23</td>\n",
       "      <td>2260.250000</td>\n",
       "      <td>2263.790039</td>\n",
       "      <td>2258.840088</td>\n",
       "      <td>2263.790039</td>\n",
       "      <td>2263.790039</td>\n",
       "      <td>2020550000</td>\n",
       "    </tr>\n",
       "    <tr>\n",
       "      <th>1254</th>\n",
       "      <td>2016-12-27</td>\n",
       "      <td>2266.229980</td>\n",
       "      <td>2273.820068</td>\n",
       "      <td>2266.149902</td>\n",
       "      <td>2268.879883</td>\n",
       "      <td>2268.879883</td>\n",
       "      <td>1987080000</td>\n",
       "    </tr>\n",
       "    <tr>\n",
       "      <th>1255</th>\n",
       "      <td>2016-12-28</td>\n",
       "      <td>2270.229980</td>\n",
       "      <td>2271.310059</td>\n",
       "      <td>2249.110107</td>\n",
       "      <td>2249.919922</td>\n",
       "      <td>2249.919922</td>\n",
       "      <td>2392360000</td>\n",
       "    </tr>\n",
       "    <tr>\n",
       "      <th>1256</th>\n",
       "      <td>2016-12-29</td>\n",
       "      <td>2249.500000</td>\n",
       "      <td>2254.510010</td>\n",
       "      <td>2244.560059</td>\n",
       "      <td>2249.260010</td>\n",
       "      <td>2249.260010</td>\n",
       "      <td>2336370000</td>\n",
       "    </tr>\n",
       "    <tr>\n",
       "      <th>1257</th>\n",
       "      <td>2016-12-30</td>\n",
       "      <td>2251.610107</td>\n",
       "      <td>2253.580078</td>\n",
       "      <td>2233.620117</td>\n",
       "      <td>2238.830078</td>\n",
       "      <td>2238.830078</td>\n",
       "      <td>2670900000</td>\n",
       "    </tr>\n",
       "  </tbody>\n",
       "</table>\n",
       "<p>1258 rows × 7 columns</p>\n",
       "</div>"
      ],
      "text/plain": [
       "            date         open         high          low        close  \\\n",
       "0     2012-01-03  1258.859985  1284.619995  1258.859985  1277.060059   \n",
       "1     2012-01-04  1277.030029  1278.729980  1268.099976  1277.300049   \n",
       "2     2012-01-05  1277.300049  1283.050049  1265.260010  1281.060059   \n",
       "3     2012-01-06  1280.930054  1281.839966  1273.339966  1277.810059   \n",
       "4     2012-01-09  1277.829956  1281.989990  1274.550049  1280.699951   \n",
       "...          ...          ...          ...          ...          ...   \n",
       "1253  2016-12-23  2260.250000  2263.790039  2258.840088  2263.790039   \n",
       "1254  2016-12-27  2266.229980  2273.820068  2266.149902  2268.879883   \n",
       "1255  2016-12-28  2270.229980  2271.310059  2249.110107  2249.919922   \n",
       "1256  2016-12-29  2249.500000  2254.510010  2244.560059  2249.260010   \n",
       "1257  2016-12-30  2251.610107  2253.580078  2233.620117  2238.830078   \n",
       "\n",
       "        adj_close      volume  \n",
       "0     1277.060059  3943710000  \n",
       "1     1277.300049  3592580000  \n",
       "2     1281.060059  4315950000  \n",
       "3     1277.810059  3656830000  \n",
       "4     1280.699951  3371600000  \n",
       "...           ...         ...  \n",
       "1253  2263.790039  2020550000  \n",
       "1254  2268.879883  1987080000  \n",
       "1255  2249.919922  2392360000  \n",
       "1256  2249.260010  2336370000  \n",
       "1257  2238.830078  2670900000  \n",
       "\n",
       "[1258 rows x 7 columns]"
      ]
     },
<<<<<<< Updated upstream
     "execution_count": 4,
=======
     "execution_count": 63,
>>>>>>> Stashed changes
     "metadata": {},
     "output_type": "execute_result"
    }
   ],
   "source": [
    "#Reading CSV from document file path\n",
    "sp500_filepath=\"/Users/school/Documents/GitHub/Portfolio-Projects/Market Indexes Jupyter Notebook/SP500_train.csv\"\n",
    "sp500_data=pd.read_csv(sp500_filepath)\n",
    "#Preview of Data\n",
<<<<<<< Updated upstream
    "sp500_data\n"
=======
    "sp500_data"
>>>>>>> Stashed changes
   ]
  },
  {
   "cell_type": "markdown",
   "metadata": {},
   "source": [
    "This table can be found at (https://www.kaggle.com/datasets/elvinagammed/sp500-stock-market-index?select=SP500_train.csv). It showcases the daily open, high, low, and close values of the S&P 500 stock market index. It also includes the adjusted and volume traded that day as well."
   ]
  },
  {
   "cell_type": "markdown",
   "metadata": {},
   "source": [
    "We also want to convert the dates in the datetime64 object type as it will be easier to handle than as a string or float64 value."
   ]
  },
  {
   "cell_type": "code",
<<<<<<< Updated upstream
   "execution_count": 6,
=======
   "execution_count": 64,
>>>>>>> Stashed changes
   "metadata": {},
   "outputs": [
    {
     "data": {
      "text/plain": [
       "date         datetime64[ns]\n",
       "open                float64\n",
       "high                float64\n",
       "low                 float64\n",
       "close               float64\n",
       "adj_close           float64\n",
       "volume                int64\n",
       "dtype: object"
      ]
     },
<<<<<<< Updated upstream
     "execution_count": 6,
=======
     "execution_count": 64,
>>>>>>> Stashed changes
     "metadata": {},
     "output_type": "execute_result"
    }
   ],
   "source": [
    "#Parsing date column as datetime64 object type\n",
    "sp500_data['date'] = sp500_data['date'].astype('datetime64[ns]')\n",
    "sp500_data.dtypes"
   ]
  },
  {
   "cell_type": "markdown",
   "metadata": {},
   "source": [
    "# Plotting Data"
   ]
  },
  {
   "cell_type": "markdown",
   "metadata": {},
   "source": [
    "Plotting the data on a lineplot and applying a regression line to see how it fits with the data. Afterwards calculating the R2 value to quantify the linearity of the data."
   ]
  },
  {
   "cell_type": "code",
<<<<<<< Updated upstream
   "execution_count": 57,
=======
   "execution_count": 65,
>>>>>>> Stashed changes
   "metadata": {},
   "outputs": [
    {
     "name": "stdout",
     "output_type": "stream",
     "text": [
      "PearsonRResult(statistic=0.9405716129554352, pvalue=0.0)\n"
     ]
    },
    {
     "data": {
<<<<<<< Updated upstream
      "image/png": "iVBORw0KGgoAAAANSUhEUgAAAj4AAAGvCAYAAABb4N/XAAAAOXRFWHRTb2Z0d2FyZQBNYXRwbG90bGliIHZlcnNpb24zLjcuMSwgaHR0cHM6Ly9tYXRwbG90bGliLm9yZy/bCgiHAAAACXBIWXMAAA9hAAAPYQGoP6dpAACmxUlEQVR4nOzdd3hTdRcH8O/Nnt2llLIphVJGyyi0FEQUUVBQQAFx4EQEFRTZKIoDF05EARF5wQWIiqIICILsvWS0zLK6Z3Zy7/tHmpvcJmmT7pbzeR4fm98dubkJzen5jcNwHMeBEEIIIeQmIKrtCyCEEEIIqSkU+BBCCCHkpkGBDyGEEEJuGhT4EEIIIeSmQYEPIYQQQm4aFPgQQggh5KZBgQ8hhBBCbhoU+BBCCCHkpkGBDyGEkAqh9W9JfUSBDynT2bNnMXnyZPTu3RsdO3ZESkoKJk2ahP/++8/j/j/99BMGDhyIhIQEPProozh//rzbPp9++inatWsn+K9Dhw7o2bMnJkyYgNTUVMH+kydPdtu/Xbt2+P333/l9rFYrFixYgFtuuQWdO3fGyJEjcfDgQbfn/uWXXzB48GB07twZAwcOxOrVq72+doPBgG7duuHpp5/2uk9ubi46duyI9957z+s+rtq1a4dPP/3Up32r28MPP4yHH364ti+Dt3fvXjz00EPo0aMHevfujYkTJ+LSpUuCfYqLi/HKK6+gd+/eiI+Px2OPPYa0tDSv59yyZQvatWvn1s5xHH744Qfcc889SEhIwG233YY333wTxcXFPl3r119/jdtvvx2dOnXC0KFDsXnzZq/7Xr9+Hd27d8fevXt9Orcv57fZbFi8eDEGDBiAzp07Y8iQIfjll198Pn9lFRYWYtq0aThw4ADfVvrz5MtnvSbfcwA4cuQIHn74YcTHxyM5ORnTpk1DTk6OLy+53PNX5jOVm5uL2bNnIyUlhf/deezYMbf9tm/fjmHDhqFLly649dZb8eWXX1LwWREcIV6cPXuWi4+P5x555BHu999/5/bu3cv98ssv3P3338917NiRO3z4sGD/f/75h4uJieE+/vhjbtu2bdydd97J3XnnnW7n/eSTT7iYmBju8OHD/H8HDhzgfv31V+7WW2/levTowWVmZvL7Dxw4kJsyZYpg/8OHD3O5ubn8PnPnzuW6dOnC/e9//+O2bNnCPfTQQ1x8fDx3/vx5fp8NGzZw7dq14958801u+/bt3CuvvMLFxMRwv/zyi9d7MGfOHK5Dhw5cTk6Ox+3ffPMNFxMTw507d86nexoTE8N98sknPu1b3VJTU7nU1NTavgyO4zju0KFDXIcOHbiJEydy27Zt4/744w9uyJAhXHJysuDeP/3001yvXr24tWvXchs3buTuueceLjk5mcvLy3M7565du7j4+HguJibGbdvixYu52NhY7v333+d27tzJffvtt1zPnj25Rx99lGNZtsxrXbJkCRcbG8t99tln3LZt27jnnnuOi42N5fbt2+e275UrV7iBAwdyMTEx3J49e3y6F76c/9133+Xi4uK4L7/8ktu1axf39ttvczExMdyvv/7q03NU1p49e9xeU+nPU3mf9Zp+z48fP8516tSJe/rpp7kdO3Zwa9eu5Xr37s2NHDnS59ddHZ8pm83GjRw5kktJSeHWrVvHbd++nXv88ce5+Ph47sKFC/x+Bw8e5OLi4rgpU6Zw//zzD7dgwQKuXbt23Oeff+7z9RM7CnyIVzNmzOD69evHmc1mQbtOp+P69u3LPfXUU4L2119/nUtMTOQfr1y5kouJiREEKBznDHw82b9/PxcTE8N9+eWXHMdxnF6v59q3b8/99NNPXq/z2rVrXIcOHbiVK1fybSaTievXrx83c+ZMvu2OO+7gnn/+ecGxL7zwAnf77bd7PffRo0e5mJgY7n//+5/H7ffddx/34IMPej2+tLoU+NQl48aN4+6++27OZrPxbRkZGVxsbCy3dOlSjuPsX5QxMTHctm3b+H1ycnK4+Ph4buHChXxbUVER9/7773OxsbFcYmKi22fNZrNx3bt35+bOnSto37BhAxcTE8MdO3bM63UaDAaue/fu3DvvvMO3sSzLPfDAA9yjjz4qeI41a9ZwiYmJ/DX4Evj4cv7i4mKuc+fO3Lvvvis49qGHHuIeeOCBcp+jKngKfEor77Nek+85x3Hcww8/zD3wwAOc1Wrl2zZu3Mj17duXu3z5cpmvtzo/U7t27XJ7jXq9nuvcuTP3/vvv822PP/44N3z4cMGx7777LhcfH88ZDIYyr58IUVcX8So7OxuAez++SqXCjBkzcNdddwnaW7dujfz8fOzZswcAsG/fPrRu3RrBwcE+P2fHjh0BAFevXgUAnDlzBizLIjY21usxu3fvhtVqxR133MG3yWQy9OvXD//88w8A4MqVK7h48aJgHwAYOHAgLl++jAsXLng8d+fOnRETE4P169e7bUtNTcXJkydx//33AwBOnz6NiRMnolevXoiLi0OfPn3wxhtvwGg0ejz33r170a5dO7cuEE9dUKtXr8bgwYPRsWNH9OvXD59++imsVqvXewIAu3btwsiRI5GQkIAePXrg2WefFXQ9euqaWLVqFWbNmoXExEQkJCTg+eef5z8HDr///jufbu/Xrx/ee+89mM1mfvvZs2cxbtw4dO3aFV27dsWECROQnp5e5rV27twZjz76KEQi56+kRo0aQaPR4PLlywCAf//9FyqVCr179+b3CQkJQY8ePbB9+3a+bc2aNVizZg1eeeUVPPTQQ27PVVxcjCFDhuDuu+8WtLdq1QoAyrzWo0ePorCwUPA5YhgGAwYMwL59+/j3+syZM5g7dy7uvfdevPvuu2W+dn/PL5fL8cMPP+Cxxx4THCuVSgXvgyeeup8cXc8O06dPx9ixY7F27VoMHDgQHTt2xJAhQ/h/S3v37sUjjzwCAHjkkUf4z5C/Xac1+Z7n5eVh3759GD16NMRiMd9+xx134J9//kGzZs3KvNbq/Ex16dIF3333neA1SqVSMAzDv59msxl79+71+PtLr9cLuhxJ+SjwIV7169cP165dw6hRo7Bq1SqcO3eOD4LuvPNO3HfffYL977//fsTGxuKll17CM888g6NHj+KTTz7x6zkdAUjz5s0BAKdOnQIA/hdDx44d8eCDD+Lo0aP8MefOnYNKpUJ4eLjgXC1atEBWVhZ0Oh3OnTsHAGjZsqXbPgBw8eJFr9c0fPhwHDlyhP9l7LBu3TpoNBoMHDgQmZmZGDNmDAwGA+bPn48lS5bgrrvuwv/+9z8sX77cr3tQ2pdffok5c+YgKSkJX3zxBcaMGYMlS5bglVde8XpMeno6xo8fj7i4OCxatAhvvPEGzp8/j6effhosy3o97sMPPwTLsliwYAGmTp2Kbdu24a233uK3f//993jxxRcRGxuLzz77DOPGjcO3336LuXPnArC/f6NGjUJOTg7mz5+PN998E+np6Rg9enSZYymeffZZjBgxQtC2Z88eFBQUICYmBoD9fW7atCkkEolgv+bNmwsC1/79++Pvv//GqFGjPD5XQEAA5syZg27dugna//rrLwBA27ZtvV5nWZ8jm83Gf0YiIyOxadMmzJgxAwqFwuv5KnJ+iUSC9u3bIywsDBzHISsrC19++SV27dqFBx980OfnKsuJEyfw1Vdf4fnnn8fChQshkUjw/PPPo6CgAHFxcfxn75VXXsGrr75aoeeoyff8zJkz4DgOoaGheOmll5CQkICEhARMmTIFBQUF5V5rdX6mVCoVunbtColEAqvVigsXLmDatGngOA7Dhg0DYP/3bLFYKvT7i7iTlL8LuVk9+OCDyMrKwldffYXXX38dABAcHIyUlBQ8/PDD6NKli2D/69evIzAwEKdOncKOHTvw+++/u/1DdeWasTAajTh9+jTeeustaLVaDBkyBIAz8DGZTFiwYAHy8/OxePFiPPLII/jhhx/Qvn17FBUVQavVup1frVYDsP81VlRUBADQaDRe9/FmyJAheP/99/Hrr79i4sSJAOyDS9evX4+7774bSqUSBw8eRGxsLD7++GP+OZKTk7F7927s378fzzzzjNfzl6WoqAiLFi3CyJEjMXv2bABASkoKgoKCMHv2bDz22GMef6keO3YMRqMR48aNQ0REBAD7l/GWLVug1+vd7oNDTEwM3n77bcF5/vzzTwAAy7L49NNPMWDAALz55pv8PiaTCevWrYPZbMZnn30GhUKB5cuX88+RlJSE22+/HUuXLsW0adN8et25ubmYM2cOGjdujHvvvZe/F56uW61WQ6fT8Y8dQbM/Dh06hCVLluD2228v80vK189RUFCQ39fgz/kd1q9fj5dffhkAcMstt2DQoEEVel5P1/HTTz/x91KlUuGhhx7Cnj17MHDgQERHRwMAoqOj+Z8rqzrf89zcXADAzJkz0bdvX3z++ee4ePEiFixYgPT0dHz33XeCzFNp1fmZcjV37lx+wsWECRP4ALCwsBBAxX5/EXcU+JAyvfDCCxg7dix27NiB3bt3Y+/evVi/fj1+++03zJgxA48++igA4ODBg3j66acRFxeHDz74ANOnT8f06dOxYsUK/Pvvv7h+/TpGjhwp+MstLi7O7fmio6Px6aef8tmbsWPH4q677kJSUhK/T1JSEu644w588cUX+Oijj8CyLBiGcTuXIzslEon4LEfp/Vz38SYkJAT9+/fH+vXr+cBn586dyMzM5Lu5UlJSkJKSAovFggsXLuDixYs4c+YMcnNzK/wlCACHDx+GwWBA//79BYFi//79+evw9Eu1S5cukMvlGDFiBAYNGoRbbrkF3bt3R+fOnct8vvj4eMHjxo0bw2AwALBnc7Kzs3H77bcL9hk7dizGjh0LwP4Xe8+ePaFQKPjr1Wg06N69O3bt2uXTa87IyMCTTz6JnJwcLF++nP/l7u19BtzfV38cOHAAzzzzDJo3b84HdBzHwWazCfYTi8Ves2W+fI5K718V5+/SpQtWrlyJCxcu4JNPPsGoUaOwZs0ayOVyn67Dm5CQEMGXfePGjQGA/yxUtep+zy0WCwD77xzHe5yUlISAgAC8+OKL2LlzJ1JSUjy+JxX5bPnzmXI9/wMPPIAhQ4Zgz549WLx4MbKysjBv3jyvv78cfP3cETsKfEi5AgMDcffdd/P91//99x+mTp2K999/H0OGDEFwcDBmzpyJ2NhYLFu2DBKJBGazGTNmzMDrr7+OEydOwGQyYcyYMYLzrlmzhv9ZKpUiPDwcoaGhgn1at26N1q1bC9oCAgLQtWtXnD59GgCg1Wo9/sWj1+v57QEBAQDc/zJy7OMtA+IwYsQIPPXUUzh27Bg6d+6MX375Be3bt+fHJDm6h1atWgW9Xo/IyEh07ty50l9A+fn5AOB1Sn1mZqbH9qZNm2LlypVYvHgxfvzxRyxfvhwBAQF48MEH8cILL3j9RalUKgWPRSIR/6XruJbS71Hp692wYQM2bNjgti0kJMTrcQ5nzpzBuHHjoNfrsXTpUkGgptVqPXaX6XQ6jxk/X/z++++YPn06WrVqha+++ooPUvft28ePY3FYsWIF/znS6XQIDAzkt7l+1nxRVedv0aIFWrRogR49eqBZs2YYO3YsNm7cyGdMK6r058DxhVtWN2lF1cR77gikbr31VkF7nz59ANgzyzKZzON70rNnT5+fB/D/M+V6fsdrT0xMBMdxWLRoESZMmOD195cj61Xe7y8iRIEP8SgjIwPDhw/HCy+8wGc1HDp06IBJkybxg1Y5jsPFixfx8MMP8xmdYcOGITU1FcuWLQMAzJkzx+05OnXqVO51/P777wgKChIM/APs3SuOQdOtW7dGcXExcnNzBV+uly5dQlRUFBQKBT/I8NKlS+jQoYNgHwDlputTUlLQuHFjrF+/Hq1bt8bmzZv5LgYAWLx4MZYvX465c+di4MCB/C/l0mMYXHn7MtHpdPwvascvvPfff99jt2FYWJjX83fu3BmfffYZzGYzDh48iB9++AFffPEF2rVrV6EuEce1OLoNHPLz83Hy5EnEx8dDq9UiOTnZbeAtALdxGqXt3r0bEyZMgFarxcqVK/k0v0OrVq3w77//gmVZQeB2+fJltGnTxu/Xs3TpUrz//vvo0aMHPv/8c8EXaVxcnCAwdzy/4y/2S5cuCb6gL126BJlMVu4g2ao4f05ODrZv346+ffsKglDHv6cbN26U+dylsw6OoKo21NR77vi3U3rwtyMrqVAovL4n/qjIZyo1NRXHjh3D8OHDBds6deoEjuNw48YNxMbGQiwWu61x5OvvLyJE+THiUVhYGCQSCb799luYTCa37efPn4dcLkeLFi0QHBwMrVaLffv2CfZ59NFHIZPJAMCvmV2uHANnXX9hZWRk4NChQ0hMTARgH0sDgB+LAth/wW3btg0pKSkA7H8ZN2vWDBs3bhScf+PGjWjZsiWioqLKvA6RSIT77rsPmzZtwt9//w2O43DPPffw2w8ePIjo6GiMGDGC/2WXkZGBs2fPev0r2fFX2vXr1/m2goICfoArYO/KkEqlyMjIQKdOnfj/pFIpPvjgA1y5csXjuZcvX47+/fvDbDZDJpMhKSkJ8+bNc3s+fzhm6G3ZskXQvn79ejz11FMwmUxITExEWloaYmNj+Wvt2LEjli9fjk2bNnk993///Yfx48ejSZMm+PHHH92+AAF78KnT6bBjxw6+LTc3F/v37+ffZ199//33eO+993DnnXfiq6++csseaDQawf3u1KkTNBoNEhISoFKpBJ8jjuOwadMmJCYm8p/38lTm/Hq9HtOnT3dbfNNxX7wt3ud43tKB0aFDh3y6ZleuM6Mqqibf8zZt2iAqKkqw6CkA/rPcvXt3r++Jryr6mTp69Chmzpzp9j7s2LEDMpkMrVu3hlwuR/fu3bFp0ybBLNuNGzciICCg3C5sIkQZH+KRWCzG3LlzMWHCBAwfPhxjxoxBmzZtYDAYsHPnTqxatQovvPACn46fOHEi3n77bbz22mu4/fbbcfnyZSxatAjNmjVDSEgIpk+fDpvN5ncKfsKECXjiiSfw3HPPYcyYMSgoKMBnn32GgIAAPPHEEwCAqKgo3HfffXj77bdhMpnQsmVLfP311ygsLOT3AeyzSGbMmIGgoCB+lsYff/yBDz/80KdrGT58OL744gssXLgQAwYMEHRFdO7cGZ9//jkWL16M+Ph4XLp0CV9++SXMZrPXcRHt2rVDZGQkPvvsM2i1WohEIixevFjQzRAcHIwnn3wSH3/8MYqLi9GzZ09kZGTg448/BsMwaN++vcdz9+rVC++//z4mTJiAhx56CGKxGN9//z1kMplbut9XYrEYzz33HF5//XXMnTsXAwYMwMWLF/HRRx9h9OjRCAkJwbPPPotRo0Zh3LhxGD16ND/1evPmzWXO8Js1axasVismTpyI69evC4Izx3iTHj16IDExES+//DJefvllBAUF4dNPP4VWq/U628aTrKwsvP3224iKisJDDz3ktgp58+bNvXbLKZVKPP7441i4cCGkUikSEhKwdu1anDx5Et98843P1+CNL+dv1qwZ7r33XixcuBAikQidOnXCiRMnsGjRIqSkpKBv375ez9+vXz/8/vvv6Ny5M1q1aoV169a5ZRF84fhS37ZtGwIDA71+DstSk+85wzCYOnUqJk2ahEmTJuH+++/H+fPnsWDBAgwcOFCQBa6IynymBg0ahGXLluGll17C888/j/DwcGzZsgXfffcdJk+ezGdax48fj8ceewwvvPAChg8fjsOHD+Orr77ClClT/Jo5SCjwIWXo168ffvzxR3z11Vf44osvkJubC5lMhg4dOuDDDz8UrCkxduxYKBQKrFixAqtXr0ZISAjuvPNOTJw4ESKRCM899xzy8vL8vobk5GQsXboUCxcuxOTJkyESiZCSkoKXX36Z/4UAAK+//joCAgKwZMkS6PV6xMXF4euvv+anewL27jez2Yxly5Zh7dq1aNasGd555x2fu32aNWuGnj17Ys+ePXjttdcE28aNG4e8vDysWLECCxcuRGRkJIYOHQqGYfDll1+ioKBAECgB9kDik08+wVtvvYUXX3wRYWFhfJkP16m6kyZNQnh4OL799lssXboUgYGBSEpKwosvvuh1nEP79u35IO3FF1+EzWZDx44dsWzZMrcxU/4YM2YMVCoVvvrqK6xZswYRERF4/PHH+TFI7du3x6pVq/Dhhx9i6tSp4DgOMTExWLhwIW677TaP50xPT+e/KF544QW37ffddx/mz58PAPjss88wf/58vPvuu2BZFl27dsVHH33kdm/L8s8//8BoNOLq1atu484A4O233+anEXsyceJEiMVi/Pjjj1i2bBmio6Px+eefu01lrihfzj9v3jy0bNkSa9eu5ScDPPLII3j22WfLHIw7Y8YMWK1WvPfee5BIJBg0aBBeeuklfsagr9q2bYu7774bq1atwo4dO/Dbb7/5dXxNv+eAfQmORYsWYeHChXjmmWcQGBiIUaNGYfLkyX6dx5PKfKZUKhW++eYbfPjhh/jwww+Rl5eHNm3aYP78+fzsNsA+GPvTTz/FJ598ggkTJiAiIgJTp07F448/Xunrv9kwXOnV6QipBhzHVWrmDSGEEFIVaIwPqREU9BBCCKkLKPAhhBBCyE2DAh9CCCGE3DQo8CGEEELITYMCH0IIIYTcNCjwIYQQQshNgwIfQgghhNw0KPAhhBBCyE2DVm72ICenCFW9rCPDAKGh2mo5d0NA98c7ujdlo/tTNro/ZaP74119ujeOa/UFBT4ecByq7U2uznM3BHR/vKN7Uza6P2Wj+1M2uj/eNbR7Q11dhBBCCLlpUOBDCCGEkJsGBT6EEEIIuWlQ4EMIIYSQmwYFPoQQQgi5aVDgQwghhJCbBgU+hBBCCLlpUOBDCCGEkJsGBT6EEEIIuWlQ4EMIIYSQmwYFPoQQQgi5aVDgQwghhJCbBgU+hBBCCLlpUOBDCCGEkBrBMPb/ahMFPoQQQgipdiIGEJkLwbDm2r2OWn12QgghhDR4IlggKroGyZVdYIx5tXotklp9dkIIIYQ0WAzDQGQphPj6Yah3zoMk5xRYeRByx/wDThlaK9dEgQ8hhBBCqpwINoiKsyA//jWUh5fwXVwiUz7ExddgpcCHEEIIIfUdwzAQWYshzjgK1b9vQJp1TLDd0OkRWMM61tLVUeBDCCGEkCoiAguRPgvy4/+D8tAiMDYTv41VhECfNB2m2BG1OrWLAh9CCCGEVArDMBDZdBBnnIBq5zxIMw4LtmdF9oek92RAGVJLV+hEgQ8hhBBCKkwEFiJDLmQnVkF18DMwVgO/LZsLwGzL4/jzQiIis/R4/bYgdA2o3dCDprMTQgghxG8MA4htRogzj0Cz4Smo974nCHr+sPXAQNM7+JNNBABcL7bhqV/SwdZy6EEZH0IIIYT4RcRwYAx5kJ/6Hsr9H0Nk0fHbWJkW+h6TMX5LOwC1vEyzBxT4EEIIIcQnDAOIbGaIck5DtfMNyK7uEmw3RyVD13MKzLJQAFdr5yLLQYEPIYQQQsolYjgwxnzIzqyFau8CiMyF/DZWqoa+23Mwt74LEInx5znPZSkitPKaulyvaIwPIYQQQrxiGEDEmSHO/g+avyZCs2OuIOixRPZA4eDlMLcZBEYiBVQhyLEpBeeYMzAGAKAzW2v02j2hjA8hhBBCPOM4iMyFkJ5eB9We9yAy5Ts3SZTQd50AU/Q9gEgMRqoAqwwBJ5JBZ84VnKZ3K/s09mKTDSzHQUTr+BBCCCGkLhHBAmT+B9XGVyC/uFmwzRKRAF2v6WA1kWDEEnCKILCyALAcAA7IN1gAAFGBCnxwbxw0cgkY+ybsvpCH3q1rbz0fCnwIIYQQwnMUFpWlrgf2vAO5Poffxonl0Cc8A1PMfYBIIsjycJzzHDk6+xifB7tFoU2YGgDQJSoAR64W4r8bRRT4EEIIIaT2iWCDOO8SlLvfhvz8H4JtlrCO0CXNABvQzGOWx9WZzGIAQMsQFd/Wo3kQjlwtRGaxCbWJAh9CCCHkJucoLCpN+wOqXW9CrM/it3EiGQxdnoCx/QOAWOo1y+OgM1txvdAe3HRorOXbwzX2GV3ZOs8zvmoKBT6EEELITUwEFqKCdKj2vAN56q/CjY3iUJA4DWxgy3KzPA4GCwvAvnShWibm22MjNAAAjbx2Qw8KfAghhJCbkH0xQgOk5zdB9e88iHXX+W2cSAJDp8eg6v0k2EILGKkSrDLYa5bHlclqAwDIJSIwLrO32kdosfbxHmhcy2v5UOBDCCGE3GREYCEqugblnvehOLNGsM0a3Ba6pJmwBbeBSqIAow4AK9WWmeVxZSzJ+CikYrdtzYOVbm01jQIfQggh5CZhz/KYILn4N9T/vgZx0RV+G8eIYez4MAwdHwHEMohkSiAgEmyBGSzr+3MYrfad5ZK6uUYyBT6EEELITUDEcGB0GVDt/QDy/74H45K+sQa2gi55Jmwh7exjeZTBsMm0gEQOjvNvMLKjq0tBgQ8hhBBCahrDAAxrhvTSdqi3vwpx4SV+G8eIYIwdDUPnxwCpAoxECVYVAo6R+tSt5Ymjq4syPoQQQgipUSIGYAxZUO77EIoTK8Fwzj4rW0BzFCfNgC0sjs/yuI7lqWhVCUdXl6cxPnUBBT6EEEJIA8NnedJ3QbX9VUjyz/HbODAwtr8fhi5PATIlGKkKrDIELCQVzvIAwMUcPbJ1ZurqIoQQQkjNETEAY8yBcv8nUBxbDoaz8dtsmijokqbD2qiLcyyPNABceXPUfXD/8gMAgIe6NwVQd7u6auWqTp8+jcceewyJiYno3bs3pk6ditxceyXXjRs3YujQoejatSv69++Pzz77DKzLcPJ169ZhwIABiI+Px7Bhw3D48GF+m81mwzvvvIPk5GQkJCRg/PjxyMzMrPHXRwghhNQGESyQXNmJgJ/uh/LoV4KgxxgzDAWDl8HWOAGMXANW2wQ2ibZKgh6Dxfk8+y/nAwCCVdJKn7c61HjgYzQa8eSTTyIhIQH//vsvfvvtN+Tn52PmzJk4ceIEpk6dikmTJuHAgQNYsmQJfvrpJyxfvhwAsHfvXsybNw/z58/H/v37MWTIEIwfPx4GgwEAsGjRIuzcuRNr167Fjh07oFAoMHv27Jp+iYQQQkiNYhgGYnMeVLveQcCvD0GSe5bfZlM3RuFtH0LfYxIYRQA4VRhsqgh711YVuVZg5H921OlqFlT7a/Z4UuOBz7Vr19C+fXtMmDABMpkMwcHBGDlyJPbv34+rV69i1KhRuPXWWyESidCmTRsMGDAA+/fvBwCsXr0agwcPRrdu3SCVSjF27FgEBwdjw4YN/PannnoKkZGR0Gg0mDVrFrZv34709PSafpmEEEJIjRDBBun1fQhYNxLKw1+AYS38NmP0PSgY/DVsTXqAkWvBaiJhk2iqJMvj6t/zuW5tTeto4FPjY3xat26NpUuXCto2btyIuLg4DBw4EAMHDuTbjUYjtm3bhnvuuQcAkJaWhuHDhwuOjY6OxunTp1FUVIQbN24gJiaG3xYWFobAwECcOXMGzZo18/kaKzqS3ZdzVse5GwK6P97RvSkb3Z+y0f0pW32+PwzDQGQuhOLQIigOfQHG5lxvh1WGQ9drKixNeoKRSIGSGVscx8HXl+rPvdlxPsetLVwjq7H76s/z1OrgZo7j8NFHH2Hr1q1YuXKlYFtxcTFeeOEFKBQKjB07FgCg0+mgVAojSIVCAb1eD51OBwBQqVRu2x3bfBUaqi1/pwqqznM3BHR/vKN7Uza6P2Wj+1O2end/bFbg2iFgw1Tg+mHhtvZ3Q9RnCrSKQECmBFRhgLji423Kuzccx+FURrFbe+uoIISFaSr8vNWl1gKf4uJizJgxAydPnsTKlSvRrl07ftv58+fx/PPPIzQ0FCtWrIBGY79xSqUSRqNRcB6j0Yjg4GA+IHKM93Hdrlar/bq2nJyicouw+Yth7B+e6jh3Q0D3xzu6N2Wj+1M2uj9lq2/3h2EAkUUH+ZElUO7/DIzN+Z3IKkKg6zkFlqYpYMxSQKICCw04kxGA0ftJy3guX+5NsckKc8naPZ2bBODYtUL78SYLsrOL/H7einBcqy9qJfC5fPkynnrqKTRp0gRr1qxBSEgIv+2ff/7Biy++iAceeAAvvfQSJBLnJbZt2xapqamCc6WlpaFv374IDAxEREQE0tLS+O6urKws5OfnC7q/fMFxqLZ/ANV57oaA7o93dG/KRvenbHR/ylYf7o8ILCRZJ6H6ZzakNw4Ktpla3AZ9j0mAMhiMVF2yLo8YYDnsOJeDP09lYvrtbaFV+P+1X969KTBYAdinr7cMUfKBj1omrpP3tMYHNxcUFODRRx9F165d8dVXXwmCniNHjmDChAmYMWMGpk2bJgh6AGDEiBFYv3499uzZA4vFguXLlyMnJwcDBgwAAAwbNgyLFi1Ceno6iouL8dZbbyExMRHNmzev0ddICCGEVBWGAcQ2IxSHv0DA2mGCoIeVB6Koz+vQpbwKqMPBqcNhUzWyBz0AbCyHF38+ib/OZKH/wl2Y+dsp5OrNsLIcvj14Bbsvug9K9temM1n2a+E43BUbgSClFBP7tAJTRwdO1XjG56effsK1a9fwxx9/4M8//xRs69mzJ6xWK9588028+eabfHu3bt2wdOlSJCUl4dVXX8XcuXORkZGB6OhoLFmyBEFBQQCACRMmwGq1YsyYMdDpdOjZsyc++uijGnx1hBBCSNURMRxEOWeg+WcWpNf2CraZm/WBLnEKoAoFI1ODVZRkeUrSLBlFJqw8cEVwzKYzWeA44JboUHy47TwA4K/xvRCsklX4Gj/bcQEAYLFx6N48CH+N71Vngx4AYLiqntPWAGRnV88Yn7AwbbWcuyGg++Md3Zuy0f0pG92fstXV+8MwAGMzQXF8BZR7P4DI4hw8zMq00HefBHPL28FI5fYaWx6mqD+44iBSszxP7unSJABHS7qk3h8ah1uiQz1eQ3n3xmRlkfLxv/zj/S/19felVgnHtfqCSlYQQgghdYiIAUT5aVBvmw3ZlX8F28xNkqDr+TKgaeQxy+PKW9ADgA96AOBqgX1S0N6LeZCIGXRrFuTztf5w6Cr/85COET4fV5so8CGEEELqAEdhUfmJ76HaPR8iszM4YaVq6Ls9B3Pru7xmedKydPhi50WM7hYFpYfK6GIGsHnI3FhtHIqMVkxcexwAsPOFFMh8rLN1zCWAerl/tK8vtVZR4EMIIYTUMhEDiAovQf3PHMgu/S3YZmncHbpe08BpI71mefL1FoxeYR/0/M854WKCDID3741DhFaOh/53yO25rSyHXL1z8cOP/jmP8b1bIkBZfojQOEAOAGikkUHhIdiqiyjwIYQQQmqRCFbI/1sN1c43ITLl8+2cRAl912dhih5SkuUJAStReyw38XdqlsdzS8UM/hqfBI3c+9e9lWVRaLTyj1cfuYY1R65h/5Syx+twHIcD6fbrHdU1qsx965K6WTOeEEIIaeAYhoGk+Ao0G56G5u+XBUGPpVE8CgZ9DXO7YWCUAfYaW2KV1xpbb29O89iulUsEQc+45Bb8z0qpPQSwshwKjBbBcRyAI1cKyqzptfbodZzL1gMAAiqwPlBtqT9XSgghhDQQItggO/ML1P++BpHB2TXFieXQx4+Dqd3wcrM8Dv/b770Qd+lMzxO9muPWtmFoEaLCwh0XsPLAFVhsHPINFrdjn1t7HOrfTmPpqM6ICnQvOPrOFmewpVVUvCRGTaOMDyGEEFJDGIaBxJABzcYJ0G56XhD0WMI6omDQMpg7jCzJ8jQpM8vj8Mn2C/zP/aJD8fOTPfjH7RoJa2UxDIM2YWpIRAwkIvtaO5vOZAm6uhwMFhbZxSb8b/8Vt20AEKq2r/2jlIqQ2Dyo7Bdeh1DGhxBCCKkBIrCQpf0O9fZXIdJn8u2cSAZDlydgbD8SjEzhU5bHVetQFc7n6HF/fBNMvS0aRouN3za4g/cp5o7AJ6PIhJPXvdfUknuZ4WWx2etzrRjTtcwxRHVN/blSQgghpB5iGEBkyIH639cgP/OTYJs1tD2Kk2aCC27jMmNL5FfhsCv59nV4BsfZgxyFVIwQlRS5egs6NfG+qJ9U7Axoylrzx9v4Hb3ZHmApZfVjNpcDBT6EEEJINRExHKTnN0H9zyyIddf5dk4kgaHTWBg7jAEjU/qd5XE4fKUA5pLFecLUzrITqx/rDrONQ0AZY2/EImdZCb1LlsjTfiYri6d/OIoOERpMu70tLDYWVtb+vKp6Mo3dgQIfQgghpIoxDMAYC6De+ToUp34QbLMGR0OXNBNsaLsKZ3kczmU7MzWNNM7Ap6yAx4F1eb6MIpPX/UwWFnsu5uK/G0X470YRXr4tGgaXQMkxO6y+oMCHEEIIqUIiBpBe3gb11hkQFzlnXHGMGMa4h2Do+CgYuQqcKgSs2P8sjyvHoOShHRv7XRjUkbHxZOGITlhz9Dq2pmZDb7Hhy12X+G1ZxWb+mqViBhIxBT6EEELITYdhAMZcBPWutyA/sRIMnIGFNbCVPcsT3qHSWR5XjvV3An1YZbk0m5fA541B7ZHYIhhHrhZgayrw56lM5Oqd090v5eoRrrGv2FzfurkACnwIIYSQShMxgOTqLmj+ngpxwUW+nWNEMMaOgqHzE2AUGnuNrUpmeVwVlKy/E1iBdXQ8BT7z74nFbTHhAJyzuVyDHgDYfzkft7YNA4B6U6bCFQU+hBBCSCWIbHqodr8DxbHlYDjn2BebthmKk2eCbdS5SrM8rgpKuroqsnIyW+o6JCIGHSMD+MfFJs8Dnk9lFKFjpH22WIiq/ixc6FC/OuYIIYTUigKDhV+3hdgxDANZxgEE/jAIyqNf8UEPBwbG9g+gYPDXYCO7gtOEw6YMtwc9VcwxlT0yQOH3saXfzs0TkhChlfOP7+vcWLB9ZEITAMD5HD2u5BsBwOOKznUdBT6EEEK80pmtmLD6GG7/fDfe3pTq9/HXC42CmUcNhchmgnrXPASsHQ5JnrN0g03TBEUDPoGhxwtgNOFg1ZGwicpffbkirCzHByAtQvwPQGylrkktE2aNooKU6FPSpQUAXZsGArAPbk7NKgYANAmUo76hwIcQQohXf/yXiX2X8wEA609meB0Q6+mLPd9gwZAl+/DoqsMea0HVRwzDQJZ9FIGrB0N56AtB15ax7b0oGPw1bFGJ4DSNYFOEVUuWx6HAYOFnZjXS+h+AqHyYhj53SBz/c4RWzk+Z//0/+8rTpYOl+oACH0IIIV6dzigWPP5qzyW3fXZfzMWgL/fi52PXBe3fHrTXeDJZWVzK1VffRdYQEWuBau+7CFh9LyQ5p/l2myoChbd9CEOvl8FoI0uyPMpqyfK4MlntfVVyiQgiP6eyA8BD3ZvxP7cKUXncp3WYmv85Kkgp6AoD7NPZ65v6F6oRQgipEVaWw84LuYK2JbsvY3TXptCWDKbddykPz689AQD4Zn867u0cye/rGjTdKDShS1QNXHQ1YBhAkv0fNFtehCTrhGCbsc3d0HebCEYVDE4RAlairMqxyzBZWZzNLEbHSK3bOj1ml8CnIrQKCfZM7oNfjl9HdLjG4z4Mw2DDuJ7QmWwIUkoxIr4Jjl8/w2+vb2v4AJTxIYSQBsVsZbEtNRuzfjuFYpN7xW1vbCyH1/48gyUlC9VZbSw2nspEts6M0n/Tp2Y7A5qZv53if3aMN3Fwff6rBcJt9YUINigPfIrA1XcLgh5WGYaifu/CkDwDTEATe5ZHXLVBDwAs23MJj393BCs8VEh3ZHxklQg+xCIGw7o0QecmAV73aaSVo2WoPSPULEg4lkgqoowPIYSQWpKnN2PE1wf41XwbaeWY1K+1T8fuv5yH305mAAA2ns7EpTwDvy24pOClw8zfTuOTYR0R00gD1+95cakvQcd1APYp0PUJwwDivFRoNr8IacZhwTZTyzug7zEJUIeCU4SClSiqPOBxWLbXvvLzZzsu4NHEZsg3WHDkSgFSWofAaLWPL6poxqcigpTC6evU1UUIIaTW/HTsuiDYuOjHuBrX6tyuQQ8AKKViAM7AJ0dnxsu/nMQvT/UUZIMkpQKfIpeMT1oNzOzK1pkhYoAQlaz8ncsgAgvF4cVQ7X0fjNWZqWIVwdAlToG1RT9ArgUrDypZl6eSF+6FpzFC4344ivM5eoxLboEuUfYsTe0GPvWv46j+XTEhhBCPvtgpHHjsGAMCAMeuFeLDbedgLFWFm+U4ZBaZcOK694yMSua+Ou+1QhPGrjrML6AH2McEOb6sL+boBVmiK/lGPLLyEN7dkuZ2rqpgtNgwdMleDF+2v8waVGVhGEBSeAEBP42AeucbgqDH1PxWFNy9AtbWt4NTR8DmWIywGh13eU8cmZXzOfZgdsvZbMHg5pqikYvhmuSpj4EPZXwIIaQBKL0KLwCYXVaoe+r7o7CxHPINFrx2V3u+fdmey4IClJ54q8d08oYwWLKxHHJ0ZoRp5PjrTKbb/qcyinEqoxgPdovCuWwderUMqbIv7bRsHcw2DmabDdcLjGgW7N+6Ngw4KI59DdXu+WAszkwZKw+EvsdkWFoNqJEsj6u5f7jMHHMJKgF7IFTZwc0VwTAMApXOrs/6OMan/oVqhBBC3JSupwQAR64W8gGRY/2djaez+O2HrxSUG/QAgEIq8rk0wYH0AgDO8T0RWrnbF/OIrw9gyi//4faFu/D82uMoMvo+CNsb10USL5fqqjNYbHj6h6P43/700ofZ5V5CwM+joN7+iiDoMTdNQcHdK2CJvqvKsjzrjl3Hy7+chMHiuRyEQ1axCekug8VZDtC7HHMqoxjT1tsHltdk4AMAgS7dXfUx41P/rpgQQogAy3EY9tU+/vEjPZzrs/x7Phdpmc5ZWK4LED79w1Gfzl9otOLLkV0wMqEJPrg3zuM+jsBoy1l7YHWj0AQAGJvYDMGlxoU4rsFoZbH7Yh6WelgbyF+uY5vWHr0m2Lbu2HUcvlKAT7ZfELQzAJT/rQK+7A3plZ18OyvToDh5NnT95gPBrUpmbFV+AHNmkQlvbUrFtrQc7L6YV+a+M9afcmvzFiDm6Gp2cUjXcT6Seji4mQIfQgip545fK4TB4uzWeqJXc/7nfZfyMPOn45U6f2yEFi1DVJjSPxqtQz0vdDe6q32RnrySzJMjAxWilnkcI+TqTGZxmdt94ZpB2XE+F5lFJv6xzkOxTbH+BgLWPwT139MAk7PLztykpz3LE3MPOE3jKh3Lc8plXaN9l/Jw2stMt/Q8A45eK3RrLzZ7zhJdq+GlAoIEGR8KfAghhNSwsy4zsqbc2gYqmRjhJaUFwtQy5OnNbsd4mjGk9FDCID4qAGN7OjNIQUqp27o+ABAdbl/h18Jnc+xf0mqpuNzAx1sZDH+4Bn6AcEaZ6/inAqMVyjNrEPTtbZBd3sa3cxIVintNg67/B0BIdJVleVxdyHG+T2uPXsfDKw9D7yGYcQ1kXu7fBk0C7QVIdV7WZXqpf5uqu0gfhKuds+akovoXRtS/KyaEkJvAkt2X8MR3R3xahNDxRTm6axRGlmRebmkTCgAwWljISwU0BosNOg9fuFNujXZre6Z3S0Hlb41cgk6lFrsTM84vQEcFd8cXukIq8jo42qH0isT+SsvWYeUB4QJ/erMNNpbD94euYumeywCAYBTi9OJR0GyeBJGpwLlzs54ouGcFLO2HVXmWx1VWsXsAmmdwb3t7s70YbHKrYDyQEIXAklWyi7x8FvpFh1bhVZavcYCzbAVlfAghhFTa1QIDFu+6hGPXCvkCoWW5XmgPfCIDnQGKoiTYMFlZBJda1+bbg1f4adGuPI3XUHgIWqJcngcAbJzzWEfg4+h6UsmEGZ9eLYLdzufPCtOe/PGf+wwyndmKTWey8MHWcwCAO0T78Zd8Ku4W7+H34SRK6Hq8CAxdBC4splqyPK7yPBRq9ZTxcdxDrdwe8KhL/v/7SffX6bpfTXGt10UlKwghhFTaqRvOsSA5OveMQGmOtXRCXWZeOWb6GK0sQtXCwOeLnZfw4jp7+QXXMTueCl0GKd2/VEsvYgc4yyZYbPaowRH4KKXikgUQ7dqGq92OrWzg4+l4ndmGORtOIwDFWCD9HItlHyKccY6bsTTqgoLBy2HpOAoIaAy2mtflYTkOf5cM/G7iEjgWm2xYd+w6nv7hKApKAiPH+zk20T5WS1MSOG4+m4XSRnWNqnTGzF+uGb96OJudAh9CCKlrZrjUv8oqNpWxp51j7Ida5gxSHIHPlXwDfj5yze0Yx5era7eFiAEWlJq11VgrzO4A9hIWrmbf0Zbv8jBYbHjhp+P8mBtlqTE+rs/n4K0Lx1ech0V1Zv9+Gv1ER/CXfBqGif/l242cFNfjxqP4js/AhncAq24MyNTVluVx+GZfOkpiQky9LRqxEfaioE//cBRvbUrF4SsF+HpvOiw2ll+YMKxknJamjIzO+N4tq/W6PYkMUGBox8bo0iQAzYM9D3avyyjwIYSQOqT0DJ1sD+NCSnOM13ENMBxdVOVNmw7XyPkxOPFRgejTJhRvDnYucFi6/hYgXMdl9djuGNopkl/PJVdvwa4LzucsnfGJjdDyP3eMtP9cbLJ5XIDRV6UHNmuhxxuiL7Fc9i4aM85rOcRGY5D5bZxvORqcJhKsIhgXco0YunAntqVlV/j5feG6zlDzICXffeWqwGjhA1IR4+zCKqsrS1bDa/g4zB4Yg6Wj493KlNQHtHIzIYTUol0XcvHCTyfwbEpLPNazudvUbk+DkEsr5jM+zgDDtVxFWSK0cvw+rieKTFY0Khm7cXu7cFwtMPK1oEpLbhmMjpFa3Bodxlft9raQXenBza1cutZm3RGD0d8c5K/X03ii8hy/Vog/TznHvrweew23nX8bUUwO38aKpHjHNAJLbIPBQoQ8BKLQJoFKxOHNv1Jx9EoBjqbnY/9Lff1+/vKwHAcRw/DB2V2xjdAsWOlxxWOW4/juLq1cwgedLUI8r0ItFjH1MvCobRT4EEJILbiYq8eT3x3h/8L//N+LeKxnc36gsoOnwa+lOYIjtdwZOGT7MDYIsM8E08glgu4UEcPgsZ7NvR7TOECBrx9MELR5mt2jkIggYhgoXQIypVSMlQ91RY7ejOZBzi/0itbXmvfXWQCACkasa/Ur2l34Ga7z7U+hNZoMmosv1zhf35GrRZi49iTuaBeOXA9T/avKwfR8vPTzSUzu1xp6s/19TmkdAsBzJs3Gcvz77fp+JLUM8Xh+RS1le+o7umuEEFLDWI7D/V8fEBT4BOxr6zi6upqX1JoqL+OTqzfzY0Jcx/hEh7mPvYhrrBU87tM6pMzxI/7wlPFxdHG5dsGJRQzaRWiQ3CpEECxZbL5lqErTmaxIZE7hD9l0tLv+s/N8nBgfWEbgOfkbsDUWBmmO6e1/ncnyGIBUlfmbU6Ez2/DGX6nO4LTkPfIUtNhY5/pHCpclCJoEuo+zApwDyol/6K4RQkgNu5jrPpUcsAc5jsAnOsw++0lvKXvg7+Yzzpk+GpcAY3CHCMF+8VEBgi9TwH2QcmV46rpxBBWRHgY0A/b1exxdNWab/xkfkc2IudIV+F72BlqInN1d55gWGGqeh09twyCRq8Aq3KfQOzhKa1QH12FLjlWbHd2RnuprbT6bhS93XirZLuz2+/nJHhjUoRF6NA/i22q6RldDQXeNEEJq2NlMncf2QqMV10u+iB2BT5HRitVHruFctg4cx+GVDafx/t9pAOy1n977275OTdtwtWBNFYlYxJ8DsBcsLf1FGVZqmntleMr4OAKfXi2C8WC3KMy5I8bDccL1f3wlu7EXQd/2xyDDrxAx9giDY0QwxD2Mqdp38B/XsuT8kjJnbPkyhqoiCo0WXCpVLBVwdkcmeljPCABfqqJ0RigqUInX7mqPPm2cixXW1sDm+o7G+BBCSA27WuD+hQgA+y/n8WN82pSsd5NZbMa7W+yBzi9PJuKPkoG8E/u0wlubUvljuzcLcjtf6S9GRaksQkUGE3sj8zDGxxH4MAyDyf08l1WQiUUwWFh+/Z/yMDYT1LvfhuLYMjCcM1jKljeD9NY5YBvHQ5KVCcAeQMglvndlOQYiV4VD6QUe2x3dfnfGNsKCrefcujsdSmfnHFxvM2V8KobuGiGE1DBvU9RPXC/iB7eWXh0ZENac+u7QVZxyKXKp9FAPq3QwUnoGUHIrz4NmK8LTWBlfqhlI+IUPy8/4SDMPI/j7AVAeXcoHPSwYfGG9G4eSvoStaRJYTSQUUteFHH0P7nwZSO6rfA+rNAPOMT4ihsGjic087gO4B6kOrveZAp+KobtGCCE17Fqh52raOrONX4ovMkDOFxp1MLlMUf/834sIcSlFofaQvSm9om/v1s5AZ9noeLRrpPH30r1iGAbJrYIFKzP7MnDYMTbIUsasLoa1QLP7LQSuuRfi/PN8u03bFM+IX8N864OQB0WBVQSD5RhBtsSfWlKFXrIv/uI4DjeKPI8dcl1yIETlvavRe8aHAp/Koq4uQgipQdvP5QgW+AOAQIUEBUYrdGbnF69ULEK7RhpkFefybaZSa/OkuSyK5ynIYF2CidtiwnBXbCNwHBAXqUXLkKpfcfej+zoCABIX7ADguQRGaY7uOIuXdYek2Seg2fQ8JLlnBe3GdiNg6DYe+77NBmCDXO6sseW6YOK2tBz4qrIrSAPAqYwiPPPDMegt7tkjmZgRjIUKUXsfXJ7pJXASubzPNKurYijwIYSQGvTJP86Mxeqx3XExV48cvRnzN6eh2OT8spSKGLcvtqIyMhKeCmC6JlFeuTMGDMNgcFyE235VpXSGyVFVvCwSPuMjDHwYzgbVgQ+hPPAZGNb5um2aSOiSZsAW1QucMhRGq31Wm2uGxHXsUkLJIozRYWpBoOhJZWuGAcCyPZc9Bj0AUHoYU6sQlT1g5Ti3bQe8jBGSUFdXpdFdI4SQGhQZ4By70zJUhX5tw/hxH46MDwN7Bqd0N01ZixJ6mjLuOibIdY2fmtKvbVi5+5QubgoA0tzTCPpxEFT7PhIEPca2Q1F4zwpYW9wKVhMJKyODuWRskNwlSFS6BEHjU1oBABbcF1du0FdWYOmrrDJKjNhKdec1DlBg7ePdsfKRbm77Tr892uM5qKur8ijjQwghNcRosaHAaM/MvDekA9/u6O5xZHykYgYMw7h9sXkLfIKVUgzp2NitvapmKPnrs+GdcOhKPkYmRJW7r+t0doazQXXocyj3fQiGdb5Wm6oRdEnTYWuWAk4ZClYsB8cBNpbls1quM9hcu7pCStYqigxQYO6d7XA2sxipWZ4zP1XR1VX6PRIz7pkeV1GB9oUqlz8Yj7HfHuHbh3dp4nF/EWV8Ko3uGiGE1IADl/PR55Od/EJ2TYOd5RrkfOBj/+J1jAMpvTaOt0rtn43o5HEdnZ4tgip93RXRs2Uwxqe08mlws2NWl7LoAgLXDIFqzzuCoMfUZhAKh/wP1tZ3gNVEwiaS82N5TC4zwVy7BV0DgtLBQYzL4GsHR9HV0mOo/MVxHHJKBT4fDevI/3xHu3Cvx8ZFBmBccotyn0NMY3wqjTI+hBBSA749eIX/+YH4JmjjUqzT0U3jWEzPMY6j9Jd26S9VwD6OJsbL7KyxPZvjWqERt8VFVu7iq5FcxOEx8R8YuOdHSFhnYMcqQ6Hr+TKsLfsLsjyudC5jorwFO6WnhXsKEEPVMhQYLJUOfAoMVreaY4FKKbZMSEKu3oJmQZ6LjTo82K0pjl8vxK3R3rsIXbu6aAHDiqHAhxBCqhnHcThWsiLvuOQWeDJJ+Jd96S8wx2P3jI974NPNw8KFDnKJCK8Pao+wMC2ys4u87ldbJIWX8GreNMRKTwIuMYep5QAYer4INqAZOHkgWI4BSgU9F3P1uP/rA/xj14HVrl18paeFewp8GgXIcT5bV+nAx7WbS8QAbcM1aBuugUTEIEBRfnkQlUyMj4d1KnMf13FfVKS0YijwIYSQarbrYh4KjFaIRQzuj3cfu1E6s+NY26b0AoQZHqY4e1vvpS5jwEFxYjnUO99CsNW5ijUrD7JneVoPAKcMAyuWeS03se9SfhnndyodVHpa1yeiZMC5yVq5BQwdGbk2YSosur8ztHKJ26KRleX6WaGMT8VQ4EMIIdXsREm2J6llMD+eRKDUl7tj3EvpMRyeFsXztsJvXSUpvgrN5kmQXt0taD8XlILQO2aADWzhNcvjKqPI8yKQAOA6prv0AG9P42LCNfYZccYqyviEqmQILmNxwsoQjmWqX+99XUGBDyGEVLP0fHtWIyEq0OP20gvZOb7cfPmLvt5kfDgOylPfQf3v62AsxXxzMaPBdNNjiIsegpGhbcrM8rgqq6p66fWEXHkKfFRy+1dhZbq6rDYWG0/b66iFaaon6AGE10+DmyuGAh9CCKlmji/pqCD3+luAPeMQGSDnK7M7umN8+WKrD+M8xLoMaP5+EbLL/wjazU1TMM/2JH67IEM7qRY2kazMLI8rTws2OrQL916KQ+Khq8sRPFYm8NnwXyZ2X7SvyF2VVe9LkwkGbtf9974uortGCCHVaMnuSzha0tVV1hdizxbB/M8Skf1Xs6d1WkqPUanKCutVjuOgOLMaQd/2EwQ9rFSD4uRZ0N2+ADqFfcyTr9XZAWDjqUzsv5zvdXu7CA0+GtYRP4x1XxjQUz0uR3fhbyczfL4Gt2sqyfYAgFZefTkF1/efxvhUDGV8CCGkGi3dfYn/ObSMwEc4aNX+5ebpC1QhEcNic35519XAR2TIhvbvKZBd3CxoN0f2hL73TLDBbcDJAyES22eblV7V2Js8vRmzN5zmH6ukYswc0NZtv95eKs/n6d1nxrk+d77BgiBP47DK0SZMjX0lwZi8Gt+TstYoIr6hwIcQQvz07cErOJulw5Rb20BTzl/3rt/nvgY+0pKMj6dzuxYyBepmd4cibT3U22ZAZMrn2ziJCvpuE2GOHSGYseVYkM/my8AeAD8fvyF4/OGwOHRtGuTztZVeZwcQ3tNik7VCgY/ZZTHF+zq5r6JdVVyn41f1jLGbRa38izl9+jQee+wxJCYmonfv3pg6dSpyc+0ViI8ePYr7778fCQkJ6N+/P1avXi04dt26dRgwYADi4+MxbNgwHD58mN9ms9nwzjvvIDk5GQkJCRg/fjwyMzNBCCGVtebINey+mAuO4/DhtvP4/WQGvtmXXu5xjrpRYWqZoJRCaa6Bj2MciqeMT+nv7bo0uFlkzEPAn+Og3TheEPRYIrqicMj/YOr8SMnqy84BzI4F+XzN+JRey8jfWW3jkluiebBwIcHRic35n42Wio3zcYwPmtinVbVm4Vw/J7VUkaTeq/F/MUajEU8++SQSEhLw77//4rfffkN+fj5mzpyJgoICPP3007j33nuxf/9+vPnmm3j77bdx7NgxAMDevXsxb948zJ8/H/v378eQIUMwfvx4GAz2GROLFi3Czp07sXbtWuzYsQMKhQKzZ8+u6ZdICGlgDqbn450taXh+7QnkuwyqzfXQbVKaI8Pw9YPxZe7nabaORlH+F2hdmc4uv7gRwd/2g/zc73wbJ1ZA12Myiu9aBFtEAlh5kH2augs+4+Nj4FNoFA5q9re7p1mwEmsf7yFoiwhQICrQPvDc4KWyennMJYFPdY+7cc34MKDIpyJqPPC5du0a2rdvjwkTJkAmkyE4OBgjR47E/v378ddffyEoKAhjxoyBRCJBUlIS7rnnHqxatQoAsHr1agwePBjdunWDVCrF2LFjERwcjA0bNvDbn3rqKURGRkKj0WDWrFnYvn070tPL/6uMEEI8WbEvHc/8eIx/7FiBGQD05rK/JC02lh+0W151dNdxIY4BrL5UVPelHlZ1EpnyEbDpOQT8/gREhhy+3RLeGYVDVsAU/wRYTRNBlseV4/p9nVBVbBLe84pmvJ4uWT37pVvbAHAGUMYKLGK4/VwO/jqTJThPdRF0b1HcUyE1PsandevWWLp0qaBt48aNiIuLQ2pqKmJiYgTboqOjsWbNGgBAWloahg8f7rb99OnTKCoqwo0bNwTHh4WFITAwEGfOnEGzZs18vsbqSB86zkmpSc/o/nhH96Zs1Xl/lu6+hC92XhK0rTzgrLm1+Ww2phu9D4Z1/RJVyURlXqPK5QtcKrbvG6CQQCUVw8ZxgqnWSS2D+anTDFP2a6/O+yO//DfUm6dApHcOKeDEMujjn4al00NgVY3AlYzl8fb8jsCH5TifrrF0BXWFVFyh1/ZUcnMM6RSByJJMj1JmDzyNVtav813JN+Cln0/yj+WSst/nqqSo5ueqT797/LnGWh3czHEcPvroI2zduhUrV67EihUroFQK+14VCgX0ej0AQKfTed2u0+kAACqVym27Y5uvQkO1/r6UOnHuhoDuj3d0b8pW1ffHbGXdgh4AOHK1UPB4zh9n8d3TvTyfo2ThQplEhMYRnhcvdGjRWM//rFXLERZmfz0H5wwAy3GIe3Ujv/3rJ3qi/Zw/7ftqlfy+ZanS+2MsBP6cDhxZJWyP6AhmwBtQR3YGlMGAqPzsh1ZtXzVZKpcIXgfHcfj5yFV0iAxEu8bOdn2p1FBURAC0PtTB8iTcpVi6tiR4lShkPt1Ph78v5AvPGaz26/iKeK5/NFIzinFHfFOIaiDj19B+99Ra4FNcXIwZM2bg5MmTWLlyJdq1awelUomiImEhPaPRCLVaDQBQKpUwGo1u24ODg/mAyDHex9PxvsrJKfJp5VB/MIz9w1Md524I6P54R/embNV1f/ZczPVpv93nc7wWAL2Sbf+jSykRlVskVGJ1ZjJsFmuZ+xcXOIMkkcVS5r5VfX9kV/6FevNkiIuv822cSApD58dh7vIoWHVjcEYZOINvf3CaS8bsFOvMgtex/3IeJv94HABwYEpfvj2vVIV6XYEepuKKdy857o/jyzArV+dXQddjl4SfE5PBVO0FYR/tal/7KDe3uJw9K6c+/e5xXKsvaiXwuXz5Mp566ik0adIEa9asQUiIfb2FmJgY7Ny5U7BvWloa2ra1r9HQtm1bpKamum3v27cvAgMDERERgbS0NL67KysrC/n5+W7dZ+XhOFTbm1yd524I6P54R/embBW5PxzHwcZ5nhY8cc0J/ue9L/bBQ/87hNQsz1/m3p7XsbpwoFJa7rW5dpdJRIzb/ne0C8dfZ7LQu1UIOA547a52uJRnQKfIAJ9ed6U/P2YdtLvnQXFipaDZGhIDXe85sDVOcNbY8mNilCNjYbDYsOdCHhKaBkImEeFynvOP3EKDFVqF/euqqCRQahWqQky4GmKRqEr+XTiWBTCYbX6d72KuXvBYJq6a66lLGtrvnhof3FxQUIBHH30UXbt2xVdffcUHPQAwYMAAZGdnY/ny5bBYLNizZw/Wr1/Pj+sZMWIE1q9fjz179sBisWD58uXIycnBgAEDAADDhg3DokWLkJ6ejuLiYrz11ltITExE8+bNPV4LIeTmUWyyIrvYWd9JZ7Zi7LdHMHTJXre1cUqv9SJiGISo/O9OydPbv6R9OTbYZR9PM5xm3tEWr93VDvMGtQcADOoQgfG9W5ZZl6qqyK7vRcgPAwRBD8eIoe/8OIruXg5b094eZ2z5whF0/nYyAxPXHseao9cE7QBwpcCeyT96tQDmksHiy0bH443BsRV+TaU5pqD7W7bicp6wlyGogt1upObUeMbnp59+wrVr1/DHH3/gzz//FGw7fPgwli1bhjfffBOffPIJQkJCMHv2bPTqZe8/T0pKwquvvoq5c+ciIyMD0dHRWLJkCYKCggAAEyZMgNVqxZgxY6DT6dCzZ0989NFHNfwKCSF10YMrDuJ6oQl/je+FYJUMG09n4b8b9i6JtCwdurgUEHX9K/69IR0AAFP6R+P+rw/49ZzT158C4HnRvNJULrO6PFUJV8skGNQhwq/nrzSrAZo986E4ugyMSxEta1Br6HvPgbVJD58qqZdFXCpw23E+Fw92a4pil0HMppK1dZ78/ijfppJV7TR+x0w6X94rByvL4WqBcPhFTCP/hlaQmlfjgc9jjz2Gxx57zOv2Tp064fvvv/e6fejQoRg6dKjHbVKpFFOmTMGUKVMqfZ2EkIbDbGX5AqCHrhTg5+M3sKdkVhRgLyLaJcq5/6mSgCghKgD92oYBAFqGqPDb0z1x31f7oJKKUeBS82nL2SzcFuMyUraU89l6r9scXDM3xgquJVOVpBmHoN30PMQFF/k2jhHBGDcGxoRx4DRNfK6kXpbS0/Edr73I5f56ysKIqjjT5aiPZrH5nvG5UWh0y87VRAaOVE7dWfKTEEKqSY7LQoO/nhAGPQAEtZ8AIL1kNlabMOFf7xFaOdY/1RPfPdoNd8U24ttXH7lW5vPPHujfOMPKVAmvNJsJmt1vIHDtvYKgxxbQHEV3LYYhaRrYwBZe1+XxV+nAx7GAoOu0dZMfwUhFOTI+Fj8yPqW7uZR1aBVt4h3V6iKENHjXC53dEbsu5Hnch+M4/q/1zCJ7dihCK3fbz1Fva3BcBP44ZV+/Jr3UFyAg7DLp0SzIr+utaNmEypJkHYd20/OQ5DknkXBgYIwdCWO3CeC0UVWS5XFVOnPjeO3FLotDOgLB5FbB2HUhD/2iQ6vuAko4VkT2J+PjGMMll4jQJkyNqf3bVPl1kapHgQ8hpMHbmppT7j4FRmdxyoySwKeRh8DHQe5SOiCz2CwInABhd5XSz/Eo1pqeQmMzQ33gYygPfgaGc163TRsFXe85sDZLqfRYHm9KL3TsyPgYXAIfRzkIx8DmsroVK34dJWN8bL6/QEeQ1LNFMD64N67Kr4lUD8rLEUIavIs53sfYOGZcuRYczS5ZKyZc472aeumhHDN+O4U3/joLtiRocZSzEDOATOzbuI8Xb22DQIUEL/Zr7dP+VUGScwrBawZDdeBjQdBjbDcchUO/g7XVHRWeseWL0l1duXoLRizbj79Ts/k2fUkw5AiAqqMshLOry/eMj6NbTOrj+0vqBsr4EEIaPG/FROOjAnAx195NVeBSfLSwZGBtQBlTk0uPw9ly1v5FfWvbMPRuFcKv4WMvqeDbF+PorlEYldCkZgbIslaoDy2Ecv+HYFiXxRPVjaHvPQuWFrdWW5bHladaY5dKdR2+uyUN98c34e95dQQ+zsHN/md8PK0DReouCnwIIQ2S1cZi/uY0sByHs14WHmQYBmMTm+Gjf87DXPIlxnEcP7A2QOH9V2RMuMZju67k2C92XrQ/LqeQqadrqm6SvFRoN70ASdYxQbsxeggMvV4Ep21e5WN5vPGnyKqppPZZtWZ8/Bjj4+gWc62YTuo+CnwIIQ3Szgt5+OXEjTL3ETGug1rtX2Imq7Oiulbu/VdkkEqK9U8l4p4l+0qd0/4F+u9530pe1CjWBtXRxVDtfQ+MzZkFs6nCoU+eCUurATWS5XFVeh2fslRnxsfxOfBnHR9Htxh1ddUvFPgQQhqk3066Bz27J6VAIhahxwfbAQChKhk//saR8XGszyNiAHU5g5IbByjc2hzf450iA3D8eiHujqvhRQe9EBech2bTJEhvHBK0m1rfBUOvl2ELbMlXUq9JvnYTWWxsNQc+joyPP11dJRkfH4qxkrqDAh9CSINUuor6Fw90hqTkr/q3747F6iPXMKlfa+y/nA/A2cXhWJNHK5dUqNvJcURxSRmMQR0aed+5JnAssHsRgjbPBWNzTutnFSHQJ8+Auc1dNZ7lceVrV5febHMJfKp21WYAkDpmdfkxuNlxPRLK+NQrFPgQQhqMkzeKMOu3U+jePAiFRotgWzeXtXRubxeO29vZp0Q7ujgcU6VvlKz5oy1jfI8vHIOlXYuP1jRxUTq0WyYDV/fA9avZ1HIADMnTYAtsXStZHle+Bj4Gi616BzeL/RvcfPxaIVYeuAKAxvjUNxT4EEIajMW7LuJqgRFXjwu7uZoFuXdJOchKDWq9VmBfw2dCSqsKXYNjjIgvM8OqDcdB+d8qqHe+DsbinMrPyoOg7zUV5pghtZrlcVVW6Yl+0aE4dKUAhUYris02/t5WZ1eX1cfBzcv2XnYeS7O66hUKfAghDcaVfKNb26RbWuO2mDCvx/AZn5Jswo0i+zkiA70HS64itHJ+wUPAnjGw2Fj+S9q1+GhNEBdfg+bvlyBL3yFoNze/BfrkmbAFt631LI+rsjI+D3VvilMZxSg0WgXLDVTn4GZfSlbsPJ8rGLzO1pWbSXxC+TlCSIORXSxcrydCK8eY7k09DkJ2kLl0cXAch9ySMgRhau+LF7qacXtbwWOzjcWh9AL+cY3Vb+I4KE/9gKDv+guCHlamBQa+Dd3Az2AL6wC2impsVZWyBjeHaWT8/cvROd/bagl8Sq7DXGp9phydGWcziwVtk9adEDw21FKJEVIxFPgQQhoEndnKr/Dr0LiMkhMOji6OC7l6rD5yna+2Hezj2JzerUMwpltT/rHFxmLi2uP8Y0kNjP8Q6TIQuGEsNH+/BJHZ+SVtjuqNomE/At0eA6sIrrbVlyujrOnsEVoFmgerAACHrtiDSamYqfLK7IB9oUkAOJulw4+Hr/Ltk9edwJj/HcLGkrpsnpT+3JG6jQIfQkiDkFXsvjpzt2aB5R4nc8kevPd3msf28rh+D5v9mA5daRwHeeovCP6uP2QXt/DNrFQDXe/ZKL7rC9jCOwIyZZ3K8rjy1tU1rHMkJCIG3ZsHAQCfRauObA8AqFyWLnjv73P8z6cy7IHkz2WsCWWkwKdeoTE+hJAGoXQ3FwDc2zmy3OOqYkZOfFQgP8PHn5V/K4PRZ0O7fQbk5/4QtJsjE6Hv8ypsYbHgRLJaH7xcHm+Bj6M9Osye8bmQax+kXR1T2YHy12wqK3LU+7k6N6ldFPgQQhqEbJ174BNZxtgeB5mHwOeB+CZ+PXffNiEIUUmRq7fUSOAjP7cBmm3TIDLm8W2cRAl99+dh6vQwOHkQWA4A515Mta7xFvg4uhzbhglLg1RXxqe8wKesMc9924RW8dWQ6kRdXYSQBmHfJXsQEBuhgUIiwuiuUT4d56kC+zO9W/r13AzDYGB7+0KFJmv1pVgYYx4C/pqAgD+fFgQ9loiuKLz3Bxi7jiuppF5tl1DlvAY+JRmWIJUUsRHO4EdeTWOmVLKy8wBcyfU4PmcOD3dvins6Nq6WayLVgzI+hJB6b2daNn49kQEAuDO2EUZ0aeLzGB2lh+nmyvK6PTyex/58ruM9erYI8vs83sgvboJm61SI9Fl8GydWwNDtWRi7PAZOHsxneeoTiZeUFOsSvYW6zLCrroyPrNTqyzaWE2TLHFczYc1xwX7D4yP9KrRKah9lfAgh9d7XOy/wP98eE+7XwGQAmDFAOCXd1/pRrhwZA73FxnebvNw/2u/zlMaYCqDdMgkBvz8mCHos4Z1QeO93MHSfCNYR9NRDIi/32vXluL4fYR4ydFWhdHmSd7ak8tXXAe9dXRFa39Z7InUHBT6EkHpv/0V798PyMQlo5MMU9tLu7lD5QqKOzJHebIOxZC0YT9kkf8gub0XId7dBcXoN38aJZNB3fw5FQ7+FNbIHWKZurcvjL289V08lteB/lrgUAe3atPyZehX1wi2t+Z/XHbvBV18H7CUzAGHXXCONrEJBMqldFPgQQuo1g9nGr+rbIlhZoXPIJKJKd6E4sjyFRgs/MFdRwcULGXMxtFunInD9wxDpnNOoraGxKBz6LQyJk0vW5anUJdcJntbxebJXczRxWTnbtQhoYDWWABnRRTgL0LVuV2qWDj8cuoroMDXf9r+Hu1bbtZDqQ2N8CCH12qqDV/ify52SXIa4xlp+kbyKcIwLytE5SytUJOMju7oTmi0vQlzkXESPE0lg7PIkDN0n1NuxPN54yph0jgoQPHatheVvN6Y/Si9tULpu14Jt5/hit9Nui0aIqnq63Uj1osCHEFKvfbHzEv9z6XEa/ogKVFQq8FGXBDm5evu0erGI8W+NIIse2t1vQnH8G0GzNTgGur6vw9q0JzhGWq+7tTxx7TpqG67Gk0ktkNQyRLCP630sPQi5uq4FgNvnIVwj5yvEh/pY0oTUPRT4EELqtVYhKlzI1aN/W++FSH0xsW8rpOcbMLRTxaYmO1b+LSipyq7wIzMhvb4P2s2TIS50BnEcI4ax06MwJE4CpwhpUFkeV67BRotgpcf3UVJDGZ/SZv1+WvA4WCnla3nV5HWQqkWBDyGkXjNZ7YNOx3T3bd0eb0JUMiwZFV/h40uP5/Gpm8tqgGbve1AcWQLGJaqxBrWGvs/rsDTv3SCzPK58mQruOsbH04KTNUUpFSHf4H9gS+oWCnwIIfWO0WJDscmKULUMOSXV1Gu766F0KYXyqrJLbhyC9u/JkOQ560JxjAjGuIdg6PkiOGVYg83yuCqrSKmDa1dXda3j4wuTjYOpZNxPbQZgpHIo8CGE1CtGiw0jvzmIjCITvhrVBSYrCxEDRFRgGntVKv2FrPCW8bGZoN7/IZSHPgfDOQfP2gKaQ9f3dVia9wUnqt9T1P3h2o3l7SW77lMVtdUqymS18WN8ajMAI5VDgQ8hpE7hOK7MQconbxThWoERALD5bDYAIDJQCalYVKvBglvg46GYpiTrOLSbJ0GSe4Zv48DA1GEk9L1eBqeKuCmyPK68LWDoSiqunTE+pZmsLI3xaQAo8CGE1Bmzfz+FE9eLsHR0PMK8dF0Vm5wlIXZfzAUAtAhV1cj1laX0mA9BV5fNAvXBT6E8+AkY1ups1kRB1/c1WFr2v6myPK5ELkGuzcvCRK4LGFZXrS5fmKwsP6aMxvjUXxT4EELqBIPFho2n7SUZVh24IlhF11WxyRk4nMvWAwC6Ng+u/gssR+kMgKOrS5xzCgGbJ0GSfVKw3dhuBPTJ08CpI2+6LI83Vi+BT13J+BgtLMwlixpSxqf+osCHEFInpGbp+J9dC30C9u6vL3ZexLK96R6PjWmsrdZr84WIYSATM/wXo1rCQXXwM6j2fQCGdS5qaFM3hj7lFZjb3HnTZnm8cXQjleY6ALo61/EBgG/GJODRVYc9bityCbppjE/9RYEPIaROyC428T/rXQKfS7l6FJmsXoMeAAhWVV8ZA3/IJWKYbVa0Ya5i+o3Xob4kXAfG1HYodMkzwWmbgOUYyvKUYrF5DnwKjc6AQy2r3q8tT6t/tw1XCwJzoHa73Ejl0DtHCKlRF3P0mLzuBNYduy5ozzc4syJ6sz3wuZSrx4ivD+Cxb4+Uec7gOlI6wGA240nx79ggm4kWJmfQw6rCUXT7x9Dd/iFYbZQ96CFuzDbPkeCAduEIVEjwXJ9W1d7FFKBwD6zm39NB8FjMABIKfOotyvgQQmqM2cri/uUHAAC7L+Ti1rZhCFLaszWOheEAZ+Dz7/lcn84bqJQCrK38HauRKP8CvpO+jh6is4J2U5u7oO89B2xAM8rylMPsJePTMlSFTc8mVaokia88BdFNAoRLJdD4nvqNAh9CSI3ZdCaL/9nGAW9vSsXfqdl4pEdTQSXsfZfz8dG285D7WN08SCWFqbiWAh+OhfLEN1DveguhIgPfXCwJBvrOgrndfWDFchrL4wNvXV1A5eqw+euOduH4q+Sz+snwjpCIRRAz9s8s4L5YJalfKGwlhNSYTJdxPADwd6p9HZ4V+6/gRpFw26qDV3A514DyJLcMhkZeO3/DiQrTEfTLKGi2zwFjdV7rr7YkfNvxa5g6jIRNREGPr7x1ddU0qUtGp2Nje6V412CHBjbXb5TxIYTUGKOXWTsAsLUkCHJ1IVfnYU+gf9swdIzUIjJAgQHtw2s0GwAA4Dgo/lsFzc55YCzOazRLA/G87jH8ySZiJo3l8VurkNpfjwkAWJdp9Y71mOQSET/ongKf+o0CH0JIjXFMU5eIGK9rtrhyrNPjsGRkF/x1JgtPJTWvtQHNouJr0G59GbLL/wjazc1vwbG4mfhzXQ4A+nL0x/8eSsCaI9cxrneL2r4UAMJp645BzK7vJ7239RsFPoSQGsFxHL49eBUAkNI6BNvScnw6LkwtA8txiAnXIL5pIOKbBlbnZXrHcVCcWQP1jlcgMhfxzaxMC32vl2Hu8CCCLWKImN1gOSAyQFE711kPtY/QYvbA2l+LycF1kUwH12CHCpTWbxT4EEJqxL5L+fzPIX5ka2IjNJh/TwfB6r01TaTLgHbbdMgubhK0m6OSoes7D2xoDFiOQYAY+PrBBBgsNiTUVoBGKq1vm1AcuVqIqEBn8EoZn4aDAh9CSI04ecOZJfFnMHKAUlp704c5DvLUX6DZPhsiUz7fzErVMCS+CFOnR8FKFILByx3qwCrSpHJGdY1ChFaObs2C+DbXwc00nb1+o8CHEOK38iqoe5KtM/M/u/YUNA9WQme2Icdlu6tADwvK1QTGkAPtPzMgP7dB0G6J7AHdLW/BFtoOLES0Lk8DJBWLcEf7RoK2RloZULLmpsSHivKk7qKwlRDil72X8jDg893YXLLOyet/nsGobw6gwGXl5dLOZhZj9ZFr/GPXcc1SMYP4qACvx3paSbe6yc5tQMh3/QVBDydRQpc0DUVDvoU1LNYe9JCbxvjeLfmfDZbaXSyTVA79yyWE+GXimuMoMFox47dTYDkO609m4Fy2Hrd/vhsHLud7PObdLWmCx2KXv5gZMJh+W1v0aR2C+ffEuh0boKi5OlyMMQ/aTc8h8M+nITI4B19bIhJQOGwtjF0nwCZR0ro8N6EWLlPtWR9mJJK6iwIfQojPDqbnCx6PWn5Q8Ng1q+Nw4HI+jl4r5B+Ha2QYnRDFP84oMiFIJcWC+zritphwDGgXLji+prq6ZBe3IOS726A4u45v48Ry6BNfRNG938PSqDNleQgAoIzlqEg9QGN8CCE++/n4DcHjC7nCdXaySq3MfDnPgPGrj/GP3747FreXBDZJLYOx+2IeBsdFCI6ZN6g9jl0rREbJSs7V3dXFmAqh2fkaFKd+ELRbwztB1+9NWBvF01geIsBSyq9eo8CHEOKzq/nGMreXHvS552Ke4HGky/Tgt+6OxfZzOegXHSbYRyxiEKKSugQ+1dfVJb38D7Rbp0Bc7KwUz4lkMHQdB2O3CWClWnD0JUdKsVFXV71GgQ8hxGdXC8qunVVYauG3jFL1t6LD1PzPGrkEgzoIsz0OrgvEVUfGhzEXQ73rDShPrhS0W0NjobvlDVgje5RkeegLjriz0eeiXqPAhxDiE73Zhly995lbAFBkLB34ODNEzYIUPi/85jr4uaoDH+nVXdBueQnionS+jRNJYOzyBAyJL4CVBlKWh5SJMj71GwU+hBCfXCuwBzGBCgkKjO5L+gPCGkcAkOmS8enTJtTn53L9WqmyyusWAzR73oLy2NeCZmtwW+j7vQFLkyTK8pAyRYepkZatwx3tw8vfmdRZFZqicO7cObzxxhuYOHEi8vLysHLlyvIPIoTUa1fy7d1cTQIV+ODeOI/7mEpNd8koti9KeHtMOJ5xWQelPK4ZF1EVVF6XXD+AkB8GCIIejhHD0OUJFI5YB3NUCs3YIuVa9EBnvDOkAx7t0ay2L4VUgt//0nfu3IkHHngAeXl52LVrF4xGIxYuXIjFixdXx/URQuqIqyUZn6ZBSvRtE4o/xvXktzm6plgOfNX1fIOFzxK9cEsrKKVi+KrKehKsRqh3zUPQT/dBXHCRb7YFtkLRkBXQp7wCmyyIuraIT4KUUvRvG8ZXbCf1k9/v3oIFC7BgwQJ88MEHEIvFiIyMxOLFi/HDDz+UfzAhpN5yZHwchRvDNHI+4HEtyGkuyfr84jL1PUzte1FSAFUSiEgyDiP4xzuhOvwlmJLOM44RwdjxYRQ88CvMzfqBhe/BGCGkYfA78Ll06RL69u0LAHytnk6dOqGgoKBqr4wQUqc4Mj6uFav/91ACRnSJxOt3tePbzDZ74KM328f7yCUiv/9CDtfIK36hNhPUe95B0Np7IclzrhhtC2iGosFfQ3fLPNhkwZTlIeQm5feowSZNmuDQoUPo1q0b33b8+HFERkZW6YURQuoOo8WG3SVr8jQNUvLtbcM1mHZ7WwCAmAFsHGApCXx0Zns9ozHdouCvyf1ao8hkxcgE/44VZ51EwJYXIMk5zbdxYGCKfQD6pOlgVY0o4CHkJud3xmfcuHEYP348PvzwQ1gsFixZsgQTJkzAE0884feT5+bmYsCAAdi7dy/f9vvvv+Ouu+5C165dMXDgQHz33XeCY9atW4cBAwYgPj4ew4YNw+HDh/ltNpsN77zzDpKTk5GQkIDx48cjMzPT7+si5GZmYzn8cSoD2Tozvjt0Fa/+cRp/p2bz26OCFB6Pk5VMVXdkfIpLAh+1zP9ZWY0DFPj8/s64JdrHmWA2C1T7FiB4zWBB0GPTNEHxoMXQ9X8HNmU4BT2EEP8zPoMHD4ZGo8GqVavQpEkT7NmzB7NmzcLAgQP9Os/Bgwcxffp0XL58mW87e/YsZs2aheXLlyM+Ph6HDh3CI488grZt26J79+7Yu3cv5s2bhyVLlqBz585YtWoVxo8fj61bt0KpVGLRokXYuXMn1q5dC61Wizlz5mD27Nk08JoQHxUYLHhg+QHk6i1QSkUwWOxBTK7OuX5PY63nbiiZ2L6/2WoPLnQlU9vV8uodRyPOOQ2sfQmq60cF7cZ2w6DvPROsKpICHkIIr0ILZNxyyy245ZZbAADFxcWQyfwbuLhu3Tp88sknePnllzF58mS+/eLFi7BarWBZFhzHgWEYiMVi/vyrV6/G4MGD+W62sWPH4ocffsCGDRswfPhwrF69GlOmTOG73WbNmoWUlBSkp6ejWTOafkhIeVbsv8IvUugIegDgbFYxAOCu2Eb82L7SpGJhxkdXiYyPT1grlIe/gHrfAoA18802dQT0KXNhjr4TLKS0Lg8hRMDv30jnzp3DggULsHDhQmzatAmTJ0+GWq3G559/Lhj3U5aUlBTcc889kEgkgsAnJSUF8fHxGD16NMRiMWw2G6ZNm4bOnTsDANLS0jB8+HDBuaKjo3H69GkUFRXhxo0biImJ4beFhYUhMDAQZ86c8SvwqYJlQ7yeszrO3RDQ/fGuJu4Nx3HYfCYbW1OzPG53BEMKqcjrdcjE9g1WlgXDOBcz1MjFVX7t4rxz0GyeBGnGYUG7qe090Ke8AlYTCY4D6ONE/7bKQ/fHu/p0b/y5Rr8Dn7feeguNGtkHCH7wwQd4/vnnoVarMX/+fKxevdqnc4SHe1710mw2o2nTpnj22WfRo0cP7Ny5E5MnT0ZMTAxSUlKg0+mgVCoFxygUCuj1euh0OgCASqVy2+7Y5qvQUK1f+9eVczcEdH+8q857s/VMJmb8dqrc/QI1CoSFeb4OpVwCwASrWAKRUo7ULPu/uy6twxAWpqmaC2VtwJ5FwN/zAKtLwVR1OHDHG5DH3Qe5pBIzwhow+rdVNro/3jW0e+N34HPmzBl88cUXuHr1KtLT0/Hggw9CrVbjgw8+qPTFfPrpp5DJZEhOTgYA9OvXD4MHD8YPP/yAlJQUKJVKGI3C6tBGoxHBwcF8QGQwGNy2q9Vq+CMnp6jKs+MMY//wVMe5GwK6P97VxL355+QNweN7OzXGz8dvuO9otSE7u8jjORwjeZ5ccQDRYWrYWA7hGhkCGM7rMf4QFVyEdvOLkF7fJ2g3t7kTssHvIBehYPPNAMyeT3CTon9bZaP74119ujeOa/WF34GP1WoFx3HYuXMn4uLioNFokJubC7m88n9lXbt2DUFBQcILlEgglUoBAG3btkVqaqpge1paGvr27YvAwEBEREQgLS2N7+7KyspCfn6+oPvLFxxXfcMCqvPcDQHdH++q896ULrp4d1yEx8BHJhF5vQajS7mKtGx7tkcjk1T+mjkWihMroNn1Jhir8w8bVhECffJMmGOHISQkFGx23f/lXJvo31bZ6P5419Dujd/T2ZOTk/Hcc8/h888/x91334309HRMmDAB/fr1q/TF9O/fHxs2bMCOHTvAcRz27duHX3/9Fffccw8AYMSIEVi/fj327NkDi8WC5cuXIycnBwMGDAAADBs2DIsWLUJ6ejqKi4vx1ltvITExEc2bN6/0tRHSkF0rFGZSXRcpdKUoo7q60WJza1PKKjejS1SYjsBfR0O7fbYg6DG3vA0FD6yHqcMosIx/kysIITc3vzM+8+bNw7Jly9CtWzc88sgjOH36NOLi4vDSSy9V+mLuv/9+GI1GvPHGG8jKykKTJk0wd+5c3HrrrQCApKQkvPrqq5g7dy4yMjIQHR2NJUuW8FmiCRMmwGq1YsyYMdDpdOjZsyc++uijSl8XIQ3d1Xxh4BOolHrcr6waWlIPqzOrpBWsacRxUPz3LTQ7XwdjcY7RY+WB0CdNh6nDSHAimX0Acz0YeEkIqTsYroILXOTk5ODq1asIDw9vcKs2Z1dDypxhgLAwbbWcuyGg++NdTdyb/p/t4mdhAcD+l/piW2o2Xv71P8F+Qzs2xuyBnruOH1xxkB/Q7NC3TajXSu7eiIqvQbt1GmSXtwrazc1vga7v62CD2ggCMPrslI3uT9no/nhXn+6N41p94fefY8XFxZgwYQJSUlLwwAMPoH///nj88cdRWFjo94USQmqfycoKgp7E5kEAgH5tw7Dp2STBvgPae56RCQDTS0pXuFL6k/HhOMhPr0Hwd7cLgh5WpoGu7zwUDV4GW6mghxBC/OV34PPBBx9Ap9Pht99+w9GjR/HLL7+AZVm899571XF9hJBqVmCwr9EjZoC/JyTj42Ed+W1Bpbq8erYI9nqezk0C3NpUPo7xYXSZCPjjSQRsmQSR2flHlCUqCQX3r4ex82NgRfI6/1cnIaTu8zvw2bp1Kz744AO0adMGcrkcMTExeO+997B58+bquD5CSDX4Zl86XtlwGvl6C9746ywAe4FRrULiVkl9SMcIAMBzfVqVe15NqfIUSmn5gY889VeEfNcf8gsb+TZOqoKu9xwUDlkJW3BbyvIQQqqM34ObDQYDtFphP1pAQABYlvVyBCGkLuE4Dp/tuAAA+ONU+UV8Z98Rg2dTWiFUXf7sqZUPd8W9S/fzj9VlZHwYQw6022dBnvaboN0S2QO6W9+CLSTWHvBQ0EMIqUJ+Z3y6dOmCjz/+mC/6x3EcPv74Y3Tq1KnKL44QUvUKjNbyd3LBMIxPQQ8ARAUq0SLYubq6t4yP7PwfCPnuNkHQw0mU0CVNQ+G938PqCHoIIaSK+Z3xmTJlCh5++GH8+uuviIqKwtWrV8EwDL7++uvquD5CSBXLLDJ5bP9yZOcqOb/MZa2f0mN8GGMeNDtegeLsOkG7JSIeun5vwxbeibI8hJBq5XfgExMTg40bN2Lz5s3Izc1FVFQUbrnlFmg0VVSLhxBSrY5e8zwDs2vToCo5v+t6Pq6Bj+ziFmi3ToVIn8G3cWI5DN0mwNj1WbASBQ1eJoRUO78DHwAICgrCiBEjqvpaCCE14J+07Go9v6NKOwCopGIwpkJodr4GxakfBPtZwzuiuN982CK6gOUYyvIQQmqEz4FP+/btwZSzROqpU+VXdyaE1J6FOy5g76X8an2ODJeutGb5exG88zWIi6/xbZxICkPCOBi7Pw9WqqIsDyGkRvkc+KxYsQKAfTDzxYsXoVQq0bhxY1y/fh0mkwktW7asrmskhFSR5fvS+Z/fHNweb21Khc7sXmOrMq4XmqCCETMlq9Bz7xbBNmtoe3uWJ7IbZXkIIbXC51ldiYmJSExMxN69e/HFF1+gc+fOSExMhEajwZdffoljx45V53USQqrYbTHhaKSRV/l5E5lT+FM2DQ9JnEEPJ5LAkDAOhcPWwRrZ3R70EEJILfB7OvuaNWuwYsUKPsNz22234euvv8aqVauq+toIIVXoSr5B8FgsYnBbTBgACKagV5jFAPWOV/GjfB6ai7L4ZmtwNIqGfgd98izYZFrq2iKE1Cq/BzcXFxe7FSWNjIyEXq+vsosihFS9LWedg5oX3W+fuv54r+ZoGaJC95L6XBUluXEQAVsmQZx/gW+zciJYujwKQ68pYGVBqGA9ZEIIqVJ+Z3zi4uKwePFiQduyZcvQvn37KrsoQkjVy9GZAQCDOjTiAx2pWISBsY18XqDQjdUI9a43EfTTfYKgJ5WNwp+dP4e+z2uwSQMp6CGE1Bl+Z3ymT5+Oxx9/HD/++CMaN26MGzduwGq1YunSpdVxfYSQKpJdEvi0a1Q1a25JMo9Cu2UyJLln+TYODIxxD4Lp8hJ6hUSApYCHEFLH+B34xMXF4a+//sLWrVuRmZmJyMhI9OvXz61+FyGkbnFkfMIqmt1xsJmhOvAxVAc/A8M5Z4TZtE2h6zsPlpb9EQgxZXkIIXVShRYwDAwMxL333lvFl0IIqU6OwKfC3VoAxNn/IWDLJEiy/xO0G2MfgD5pBlhVIwp4CCF1WoUCH0JI3cNxHP44lYmEpoGIDFC4bc/RlwQ+qgoEPjYLVIc/h2r/h2BYZ5FTmyYS+j6vw9x6AFhIQFO2CCF1HQU+hDQQ28/l4tU/zgAA9r/UV7DNaLGh2GTvlgrT+Bf4iHPOQLtlMqRZwrW6jDH3QZ8yC6wqkrI8hJB6gwIfQhqIi7nOJSWydWbBWJ5cvQUAIJeIoC5VMd0r1gblkS+h3vs+GNbMN9tUjaDv8xrM0XdRlocQUu9Q4ENIAyF1KQ6aXWwSBD5FJnv3lFYuKbfmHgCI88/bszw3DgraTdF3Q5/yClhNE7AU7xBC6iEKfAhpIPQuNbccGR4HQ8k2VXnZHo6F8tgyqHe/DcbmLDbKKkOh6z0H5nZDwTFSSvIQQuotCnwIqcN0ZivyDRaEhZW/XIQw8DELtp3JLAYAKKXeAx9RwSUE/P0SpNf2CNpNrQdC32cuWG0ze5aHgh5CSD1GgQ8hddiUX/7D4fR8/DAuCS010jL3da2ynqMTZnze33oOAHAp10NpGY6D4uT/oNn5BhirczurCIY+eSZM7YeDE8koy0MIaRD8LllBCKkZNwqNOHA5HzYO+HrnxXL315md08yvFxr5n40WZ0BktLKCY0RFVxG4/kFo/5kpCHrMLfqj4IHfYOowGixDQQ8hpOGgjA8hdZRjwUEAyCvVdeVJodEZ+LhWYk8vVZUdgD3Lc+p7qP99DSJLMd/MygOhT5oOU4eRlOUhhDRIFPgQUke5dl0duJQHs5WFVOw9SXutwJnl2XspH9tSs9GvbRhuFJoE+4l0N6DdOhWyS38L2s3N+kB3yxtgg9rQWB5CSINFXV2E1DF/nc7EX6czBYGP2crijb/Oei36yXKcoHsLAF7+9T+cyShGFp854vBU4D4Ef9dfEPSwMg10fV9H0d3LYXMEPYQQ0kBRxoeQOuRqgQGzfj8NAOjZIkiwbcN/mVBKxZh+e1u343J0ZphtHEQMBIHLQysP4faYcIShAG9Jl+IOk3BdHktUEopveQNsSDvK8hBCbgqU8SGkDtl4Kov/ee+lfLfta49e93jcumP29gitHKO7Rgm2ydPW4y/5y7hD7Ax6OKkKut6zUHjPStgcQQ8hhNwEKONDSB2y+2JuuftYWQ4SkXP15fQ8A5bsvgwAaBygwPN9W+G7Q1cRjELMk36Nu8V7BcdbGneHrt9bsIXFguUYyvIQQm4qlPEhpI4oMlpx5GqhW/uYblHYP+t2/nF2sXCw8vHrzmOkIgYSsQh3SQ7gL/lUQdBjEcmh7zUVRfd+B2tYB3vQQwghNxkKfAipA1iOw6OrDvGP74mLQKBCgpTWIRge3wThWjlCVfYFDB11txzS85zT1e9tq4R28wtYJFmAcMYZEO1l22NN52UwdH8ONrGSpqkTQm5a1NVFSB1wKqMY6fnOWVlzBsbwxUQdNUUVUjEAi6A0BQDkG+yrNI8MPIWRRyZDrMvgtxk5Kd6zjsQy2514NagdZXkIITc9CnwIqQNOXhd2cXmqoO4oMGq0CFdfNukLMF+yGKNM2wCXXrDCwA64N/NxnOeaAECZawARQsjNggIfQuqAyy7dVUtHdfG4j6PAqN6lBIU0/V+8cvU5hEucs8E4kRSGhKdh7fYc2m26gvOnMgEAMgp8CCGEAh9CqlpWsQlPfHcEt7YNw+R+bXw6xlASzDyb0hJdogI97qOUipz7mnXQ7H4TyhMrBPtYQ9pB1+9NWCN7ggUDtcxZjV0mocCHEELoNyEhVWz4sv24XmjCtwevwmpjyz8A4MftqKRir/s4Mj5B2fsR8sMAQdBj4cS4FP0YCkf8BEuTJLCwd5WpZM6/beQU+BBCCAU+hFQ1g8sYnAKjtYw9nRzdVyqZ98AnQGLFHMn/cM/x8RAXXubbz3DNcK95HvJ7zoBNGgjOZcqWRu48H43xIYQQCnwIqVJFpQKdIUv24lKuvtzjDOZyAp/0/Zh99Rk8IfkDopIVB62cCEVxj+Ju05s4ybVEgFLmdphrBklOgQ8hhFDgQ0hVenPTWcFjs43DO1vSyj1O5y3wsRqh3vUWsOwONLKk882pbBSGmV/Dpa4zYYEEYpFwPI+DWk5jfAghxBUNbiakCm05m+3Wtv9yPsxWlg888vUWaBX2YMXhbJYOgDBDI8k8Bu2WSZDkOoMplmOwxDYIC6z3wwQZPt5u7/IKUko9ToHXyqX8z8Eqqdt2Qgi52VDgQ0gNOJ+jQ/sILdKydBi94iD6RYfivaFxAIDTGUX8flqFBLCZoTrwMVQHPwPDOaeum9RNMTr3SRziYvi2v1PtgdbgDo08Pm/PFkEY0SUSPZoHIUhJgQ8hhFDgQ0gNcFQ///7wVQDAtrQcftulXOcaPtHsJQSumQxJ9knhCeIfREHCFBxadFrQbCs58ZjuTT0+r0IqxrTb21b28gkhpMGgTn9CqgjHOaumLxsdj0d6OIORi7l6/JOWA53J5nZcjt4MMWz4sPFfCFkzWBD02NSRKB60GLj7Y4jUnrM6DIBABWVzCCHEF5TxIaSKGK0srCUZmDZhanRqEoB9l/JxOrMYr/5xxutxopyz+Ek2F13yzwvaTTH3QZcyC5y6MTQSGQATbm0bhq2pwnFEAaXGCxFCCPGOMj6EVBHHVHYx41xlOTVb5/0A1gbloUV4Ju0JdBE5gx6bqhGK7liI4gELwKoaCyqpv3V3LPpFhwpOQ4OWCSHEdxT4EFJFCksCH63COcPKMQantJbMdQSuGw7N7jch5Sx8u6nNYBQ+sB7mmKFgIRUEPQAgETF4b2gcwjXONXusXp6DEEKIO+rqIqQK5OjMGL3iIAB715M3DFg8Kv4L0yTfQ3bDzLdnckG40X06ono+AE4kcwt4Sssqdh4r8jCNnRBCiGcU+BBSBb7Z51xcsHmwkv+ZAeCIYZoymXhf+iV6iU4Jjv3FloxXLGPxXcfbwDIy5wE+mnUHzdoihBBfUVcXIVUgz+DsrnrIZWr5FyM7A+AwRrwZG2XTBEGPRRaErD5v4wXLRBRAA63c979DZt/RFi1DlFjzWHd0bRpUFS+BEEJuCpTxIaQKGC3OaeqxEVr+5+6BenyvfBe9uKOC/X+3JaLRbW9AEdYKwH7IxAwUZVRmL21op0gM7RRZ6esmhJCbDQU+hFSB9Hz7IoRvDGpvr7fFcZCf/hGaf+eiF+dcmTmP0+AVy1isZ5OwXNUUJoM9YNLSOjyEEFIjKPAhpJJYjsOVfCMAoENjLUS6DGi3TYPs4mbBfptsXTHT8iSyEAQAMFs56Fl7F1mAH91chBBCKo5+2xJSScevFcJkZaGSitAq4w8E/jsHIlMBv72QU+E1yyNYy/aBfbiz3YVcPd7elAqgpEYXIYSQake/bQmppFMZxQhFAb7UrETwlp2CbZYmPXHnhYdwjQt1O84R9ABASuuQar9OQgghtTyrKzc3FwMGDMDevXv5ttOnT+PRRx9FQkICkpOT8fbbb8NqtfLb161bhwEDBiA+Ph7Dhg3D4cOH+W02mw3vvPMOkpOTkZCQgPHjxyMzM7NGXxO5+TS5/hf+kk9Fd4Mz6OEkSuiSpqNoyApkwBn0dG0aiCaBCrdzjE1sViPXSgghN7taC3wOHjyIkSNH4vLly3xbbm4uxo4di+TkZOzbtw8//vgjtm3bhm+++QYAsHfvXsybNw/z58/H/v37MWTIEIwfPx4Gg31g6aJFi7Bz506sXbsWO3bsgEKhwOzZs2vl9ZGGjzHmIeCvCRh+cQ5CGecAZktEVxQOWwNj12dhE6vx/r1xUEnFeHNwe3w5sguaBMjdz0WLEBJCSI2olcBn3bp1mDJlCiZPnixo//nnn9GyZUuMGzcOUqkUTZs2xbJly3DXXXcBAFavXo3BgwejW7dukEqlGDt2LIKDg7FhwwZ++1NPPYXIyEhoNBrMmjUL27dvR3p6uts1EFIZsgubEPJdf8hTf+HbLIwc+p5TUHTvKlgaxYMt+eeV0joUW59Lxh3t7dXVpWLhP7vXB7WruQsnhJCbXK2M8UlJScE999wDiUQiCH6OHTuGmJgYvPLKK9iyZQuUSiWGDx+OcePGAQDS0tIwfPhwwbmio6Nx+vRpFBUV4caNG4iJieG3hYWFITAwEGfOnEGzZr53JVTHH9+Oc9If9p7Vl/vDmAqg3jEXitOrBe372HZI7zoHt/boAxZiAJzgtYhdHrgGPqEqKQZ1iCj7OevJvaktdH/KRvenbHR/vKtP98afa6yVwCc8PNxje0FBATZv3oy5c+dizpw5OHfuHJ555hnIZDI88cQT0Ol0UCqVgmMUCgX0ej10OnsVbJVK5bbdsc1XoaHa8neqoOo8d0NQp+9P2mbgl4lA0XW+ycpI8bb5AXxtuwuL2vZASFhQuafRqpwFRoM1coSF+faa6/S9qQPo/pSN7k/Z6P5419DuTZ2a1SWTydCpUyeMGDECANC+fXs89NBD+OOPP/DEE09AqVTCaDQKjjEajQgODuYDIsd4H9ftarXar+vIySkqt0ikvxjG/uGpjnM3BHX5/jDmYqh3zoPi5CpBuzU0FgOvPY5zXJS9wWxBdnaRhzMIsTbnKs8aqajcY+ryvakL6P6Uje5P2ej+eFef7o3jWn1RpwKfNm3aCGZ4AQDLsuBK7njbtm2Rmpoq2J6Wloa+ffsiMDAQERERSEtL47u7srKykJ+fL+j+8gXHodre5Oo8d0NQ1+6P9MpOaP9+CeKiK3ybiZPA0OUJsD0n4tynx/n2ALnUp2vflprtPEbh2zFA3bs3dQ3dn7LR/Skb3R/vGtq9qVNFSocPH46zZ89iyZIlsNlsOHPmDFauXImhQ4cCAEaMGIH169djz549sFgsWL58OXJycjBgwAAAwLBhw7Bo0SKkp6ejuLgYb731FhITE9G8efPafFmkPrLoodk+B0G/jBQEPSfYlhhifgM7mz0DsyRIcIivixAaLCz/cyAtXEgIITWqTv3WbdOmDVauXIl3330XixcvhkKhwOjRo/Hwww8DAJKSkvDqq69i7ty5yMjIQHR0NJYsWYKgoCAAwIQJE2C1WjFmzBjodDr07NkTH330Ue29IFIvSa7tQ8CWyRAXXuLbOEaMbSEj8dTVO2GFBMVm4Jt9wtmCvgYxbw5uj1m/nwZAKzYTQkhNq/XfumfOnBE87tKlC1atWuVlb2Do0KF8Bqg0qVSKKVOmYMqUKVV6jeQmYTVAs/c9KI4sAQNnXtca1Br6Pq9j/enGsF61L4hptnFYtPOi4HC5xLcEap82zgUNfT2GEEJI1aj1wIeQukBy45A9y5N/jm/jGBGMcQ/B0HMyOGU4io+d4rddztMLjp9zR4zPixAqXIIdcX2YJ0oIIQ0IBT7k5mYzQb1vAZSHF4HhnGNvbAEtoOv7GizN+4ITycBxQLHZWTplyW7niuPbn+8NpVTs81O6BkhiEQU+hBBSkyjwITctSdZxaDdPgiTX2d3KgYGpwyjoe74ETh0BlmNgtrC4nGdAscnmdo6U1iF+BT2lBSikFT6WEEKI/yjwITcfmwXqg59AefBTMKwzi2PTREHX51VYW94GViwHxwFX8g2476v9Xk+llVfsn9CkW1pj98VcDOlY9qrNhBBCqhYFPuSmIs45hYDNkyHJPiFoN7YbDn2vqeC0TcByDBxjm9/Zklbm+QIqOCtrTPemGNO9aYWOJYQQUnEU+JCbA2uF6vAXUO37AAxr4Ztt6sbQp8yBpdVAsBIFOA5486+zuFJgxLv3dMCei3llnraiGR9CCCG1g35rkwZPnJsK7ZbJkGYeEbSb2g6FPmk6WG2UvZI6B5isLH4+fgMAcPfivR7OJhSkpDE6hBBSn1DgQxou1gbVsaVQ7XkHjM3sbFaGQ5cyG5boQWDFKr4kCgAs2+NctFBvcR/MXFqzYGW5+xBCCKk7KPAhDZIo/wIC/p4M6fUDgnZTm0EwJE2HLbBlSZbHGfTkGyxYtje99KnK1JwCH0IIqVco8CENC8dCeeIbqHe9BcZq4JtZRQj0yTNgjhkKVqIWZHkcUrOK/X66cI28UpdLCCGkZlHgQxoMUWE6Av5+CdKruwTtppYDYOg9E7ag1mAh9lpmODVL57F97p3t0CZMhUu5BnSOCsCQJfv4bVRyghBC6hcKfEj9x3FQ/LcKmp3zwFicwQsrD4Q+aRrM7YeDlWg8ZnlcOQKfp5NaYO2x68jR2ccFDY6zr7XTPkILAIiPCsCRq4XV8UoIIYRUMwp8SL0mKr4G7daXIbv8j6Dd3PwW6HvPgS0kGiwkXrM8DlYbi32X7FPX20Vo8NvTPTH1l5OILQl2XEnElOUhhJD6igIfUj9xHBRnVkO941WIzEV8MyvTQt/zJZhjHwArCyw3y+Pwx6lMZBabEaSUoleLYEhEDBbc19Hjvg93b4oDl/Nxi0uVdUIIIfUDBT6k3hHpMqDdNg2yi5sF7eaoZOhTXoEtrB1YSMvN8ri6mGsfCH1bTBhk5YzbSW4VgrWP90BkAA1sJoSQ+oYCH1J/cBzkab9A889siEz5fDMrVcPQYxJMcQ+CkweC9THeuVpggIhhEBmgQIHRvppzmFrm07E0jZ0QQuonCnxIvcAYcqD9Zzrk5/4QtFsiE6FLeQW28A7gRDKfkzwGiw33LrUXH909uQ8KDPbAJ5BWYiaEkAaNAh9S58nPbYBm23SIjLl8GydRQt/9OZg6PQJOHmTP8vjes4XrhUb+Z53JigKjvUp7YAWLjhJCCKkf6Lc8qbMYYx6022dDnvqLoN0SkQB9n7mwNurkV5bHVb7BWahUZ7YhX29/TLW3CCGkYaPAh9RJsoubod36MkT6LL6NEytg6PYsjJ3HglMEg+UYv7I8DvkGC8b9cIx/XGi04EqBfXBzVJCi0tdOCCGk7qLAh9QpjKkAmh2vQnF6jaDdEt4J+j5zYYuIByuWVyjLAwBFRisGfL5b0Lb26HVYbBzkEhEaaynwIYSQhowCH1J3pG1G8LoJEOlu8E2cSAZDwtMwdnkSnCq0wlkeADh5vRBb03Lc2n8+bn++ULUMYhFTsZMTQgipFyjwIbWOMRdDs+t14OS3cF1BxxoaC12fV2Fr3B2sRFHhLA8A2FgOY789wj+WS0SIDlPj5A3n4oeDYhtV/AkIIYTUCxT4kFolu7oTmi0vQVx0hW/jRBIYOz8BY9enwSobgUXFszwOn26/IHjcuUkA9GaboG1k16jKPQkhhJA6j4oOkdph0UOzfTYCfx4pCHqswW1RePdyGJJegk3V2B70VNL1QiNWHbwiaHvhltZuKzRrZOJKPxchhJC6jTI+pMZJb+yHdtMkiAsv8W0cIwbT40kUd3wCNmVjsBD5VXKiLC/9fFLwOFwjQ7tGGshLBT5UfJQQQho+CnxIzbEaodn7HhRHFoNx6buyBraCvs+rCOh4G2w6EVhfa074KDVLJ3jsyCE9ndQCey7mVelzEUIIqdso8CE1Qpp52J7lyT/Ht3GMCMYOD8LY/Tlw2saAIgBccVEZZ/Ffscnq1iZi7KFPpyYBVfpchBBC6j4KfEj1spmg3v8hlIc+B8OxzuaA5tD1ng1r8z5gpQGo9OhlL5bvSwcAyMQMzDb7c9zbuXG1PBchhJC6jwIfUm0k2Seg3fQCJLln+DYODIyxD8DY/XmwAU3AQgpwHJhqWj7nxPVCAECvliF47a52OHK1AL1aBFfPkxFCCKnzKPAhVc9mgfrgJ1Ae+BQM5+xqsmmaQN97Niwt+oGTBaCKh/K4sdhYnLhu7zqb2KcVNHIJUlqHetw3REU1uggh5GZAgQ+pUpLc0/YsT7ZwJpUxZhgMiZPBBkRVuLCov05nFMNkZRGokKBliNLjPm8Obo+P/zmPd4Z0qP4LIoQQUuso8CFVg7VCdfhzqPZ9CIZ1Vj63qRtDnzwTlpb9wcmD7FmeGgh6AODI1QIAQHxUIBgvfWl3tG+EO9rTis2EEHKzoMCHVJokP82e5ck8Kmg3Rt8DQ+JkcIEtwYprJsvj6mzJNPa4SG3NPjEhhJA6iwIfUnGsDapjS6Ha8y4Ym8nZrAyHLnk6LK3uAKcIqlRh0cq4mm8AADQL8tzNRQgh5OZDgQ+pEHHBBWg3T4b0xgFBu6n1nTD0nAI2sGWlC4tW1NUCA4Z/tR8ls9cRFaSo+YsghBBSJ1HgQ/zDsVAdXw7V7rfAWI18M6sIgb7XVFiiB4GVB5WUnKidS9x+LpcPehppZGgdqq6dCyGEEFLnUOBDfCYuSod2y4uQXt0taDe1uA2GpGlgg1uBFSvdsjw7zuVg/ckMzBrQFoHK6p02/tG284KCpP97uKtbTS5CCCE3Lwp8SPk4Dsr/VkG983UwFj3fzMoDoe/5Mixt7warCPGa5XmxpEhors6MJaO6gGEYFBgsOHatEIktgiETM8jWmREaqqnUZV4rEFZhn5DSEiEqWaXOSQghpGGhP4VJmcS6awhcPwaabdMFQY+5WR8UDv0O5g4PwKYMtwc9HlhtzjIVR68VYvSKgzBYbHh/6zm8+PNJzNlwGtvP5eCuL/bi07/TKnWt8zaeETwO01DQQwghRIgyPsQzjoPizGqod7wKkdlZOJSVaWHoMRnmdveCVYaVZHm8D+bJM1gEj89l67E9LQfb03IAAFtTs5GeZ599tWDTWTzYpeJ1tIxWVvA4JrxyGSRCCCENDwU+xI1Inwnt1pchu7hF0G5ukgR97xlgQ9uBlWjA+TBlS2+28T/HhKtxNkuHM5nFEIucCwpaXLJC9nNWrHBXm1A1X6KiU6QWbcNpUDMhhBAhCnyIgCL1Z6j/mQWRqYBvY6Vq6Ls/D0v7+8GqQsFCXGaWx5XBYg98Gmlk6B8ThrNZOuQZLCg2OWt4XS1wzg4z2zjIxBULfMwlAdTzfVthTPemXldrJoQQcvOiwIcAAETGHGi2Tof8/B+Cdkvj7tAlzwQbHgtWGuBTlseVviTwUUrFCFDYZ3T9djJDsI/VpVqpwWyDTOn70LO0LB32Xc7DAwlRfOAjl4ghoqCHEEKIBxT4ECjOb4B66zSIjHl8GydRQt91AswdRoFVh4KF1OcsjyuD2R6MqGRiBCrK/7jpLTa/pryPXnEQALDnYh7ffSaXUNBDCCHEMwp8bmIiUz40/8yEPPVXQbulUTz0vWfDFt4BnCwAbCUWInTN+AQqyg9oHF1j/tp9MQ/xUQEAABmt20MIIcQLCnxuUvKLm6DZOhUifRbfxonl0Cc8A3PHMWBVYeBElSssmllkwrtb7FPUVTIxglXCwGdQh0bY8F+moK2igQ8AZBTZ64XJxBT4EEII8YwCn5uMyFwEzY7ZkJ9eK2i3hHWEPmU2bOEdwcmD7FmeSpacmPX7KeSXTGdXSMRoEuismTW4QyM0C3YvHlpotLq1eVN6vFEmBT6EEELKQYHPTUR+eRs0f78Ekc45uJgTyWCIfxKmjg+DU0eAFVcuy+PqyNVC/ueYRmpo5M6PW5eoQI+lJD7adh5JY0N8Or+p1Lo9jvpc1NVFCCHEGwp8bgIiiw7qf1+F4r/vBe3W0PbQJc+GLaILOEUQWI6ptsKit0aHAQAe7t4U/17IxYB24cjVW9z2C1XLkFVswpGrhWgWpED7CK3H81ltLFYeuOJxG2V8CCGEeEOBTwMnu7oLmi2TIS66yrdxIgkMnR6DqctYcKoIsBJFlWV5vGkRYu/Wev6W1nj+ltYAAI1cgubBSlzOMyBQIUGB0YqzmcUY9OVe/rj9L/X1eL6v96Vj8a5LHrdRxocQQog3FPg0UIzVCM2u16E4vkLQbg2Ohj55NmyRCWDlwV4Li1YFuUQEk5XFlyM7e11M8JsxCdjwXwbCNXJM/fU/FPg4xmf/pTyv2+SU8SGEEOIFBT713LlsHfRmGzo1CeDbZNf3QbN5EsSFl/k2jhHDGPcQjPFPgtNGgBWr/V6MsDwFBgu0CglEDAOW4/gxOC1DVF6P0cgleCAhCv/dKPK6jycGC+t1m1JGgQ8hhBDPKPCpp85kFGPf5Tx8sv0CAOD3p3siQgWo97wNxdFlYDhnYGANbGlflyeyG1hFaLmFRSvil+PX8cZfqUhuFYyPh3WC2WXgsUIiLvd4tczzPjaW4xcmtLIc/j6bBbGIwenMYsF+KqmYXzNIJS3/+QghhNycKPCpp57+4Sj/RQ8A18/sRvszr0Ccf55v4xgRjLGjYOz6NDhNpM+FRSviqz327NKuC3k4l61DqFrGb/M0e6s0tdxzsGKxsRCL7Nt+O3EDb25K9bhfr5bB+Ds1G4B9sURCCCHEEwp86hmrjcXJG0V80COFFc9JfkL/vb9CBGeWxaZthuLes8A2SQSrDAELSZVneRxYjkNmsZl/POqbg+gUaZ+NJRUzgkrs3mhknj+KJisLhVQMjuNw6EqBx31SWodA61IOw5dAixBCyM2pVr8hcnNzMWDAAOzdu9dtW2ZmJpKTk/HTTz8J2tetW4cBAwYgPj4ew4YNw+HDh/ltNpsN77zzDpKTk5GQkIDx48cjMzOz9KnrtWV7L+PJ748CAGKZS/hVNhvPS37mgx4ODIztH0DhPd/A1uIW2FQR9qCnGuXqzLCVqmtx/Lp9zI4v3VwAoPTS1eUoPDrzt9P445Twvfz8/k6YOaAtXhkYA6lLcEVV2QkhhHhTa4HPwYMHMXLkSFy+fNltG8uymDJlCvLyhDN39u7di3nz5mH+/PnYv38/hgwZgvHjx8NgMAAAFi1ahJ07d2Lt2rXYsWMHFAoFZs+eXSOvp6Ys2X0ZEljxnPgn/CqbjViR8/7ZNE1QNOBTGJKmwRbUCjM2XsHgL/fgRqGx2q7nXLYOd33pHrg6FJl8X4l55qD2UEhEWD4mgR+n4xggvflslmBfqZhBQtMg3Nc5EsEqGaQ0k4sQQogPauXbYt26dZgyZQomT57scfvChQvRuHFjREZGCtpXr16NwYMHo1u3bpBKpRg7diyCg4OxYcMGfvtTTz2FyMhIaDQazJo1C9u3b0d6enq1v6aacKPQiLbMFfwkexUvSddAyjjH+GxW3onCe1bA2vo2sOoIrD2WhY2ns5BRZMLH/1yolusxWVm8suE0/zhE5XtVdU+e7tsG/05KQVxjLb8WT+nVmQHgrthGWDKyCyQuWR6pmLI8hBBCylcrY3xSUv7f3p1HNXnmewD/BkJIQiQEQdTWpcpmkQqCUKtO1RZtq17nulxtXa7eGeso2qtTq7ae3s5c246eOa0dx9bpqHW6TefUenWmOueqHbvcWtymiksrghsqiyyCJCFke+4fMS8JJAhCEiTfzzk9h7zvy8uTH7F8z/M+y0hMmjQJcrm8Wfg5fPgw9u7di507d2LSpElu54qKijB16lS3Y/Hx8Th37hzq6upQVlaGxMRE6VxMTAy0Wi0KCgrQp0+fVrfPF09KnPe823vLhB3WQ29ij+KPCJc19qJcEzFYZVmAq+FDsTt6gLSx6G++KJKuqTI2+OQ97f2hDOcrDACAhNgIrH0qGTPf/6fbNS/lJLTqZzetj3OcjsVmh8XmHn7+64nEZj08U4b0wgfHrmHUgGifvNdAau9np6tjfVrG+rSM9fHuXqpNW9oYkOATGxvr8XhVVRVeeuklbNy4EREREc3OGwwGqFTuG1sqlUoYjUYYDI4/wGq1utl557nW6t7d8zYJHeGu7l3+I7D7F+heehJw+eX+xToaw55+GYc+LAdqLdCHqNC3u7rZzC0hC0FMTMe/p2t1ji0n5g7vh/+ePBgA8O2qMbh+sx6ztx3B9Mw+ePaxxJZu0YyzPupwOVDXAJVGCYWmcXNThTwEveK0zb4vJqYb8l8Zh27hcoS0YjD1vciXn8uugPVpGevTMtbHu65Wm04zq0sIgZUrV2LOnDkYPHiwx2tUKhVMJvfxKiaTCTqdTgpEzvE+ruc9haiWVFXVdfgEKJnM8eFpy71lEFB9/w5UR96EzNYgHS8TOqy2/Bxf2dPxfewD6KG5iRt6M364UgWFzQpDk3E1ZTX1qKxs2wKBrXH2Wg0A4AFtuHR/JYCBkQp8kTsc6rDQVv/cpvVxDnUur9JDZm7c0+tvPx/W4j2r25Zx7wl389kJJqxPy1iflrE+3t1LtXG2tTU6TfApLS3F0aNHkZ+fj7fffhsAoNfr8etf/xr79u3Du+++i4SEBBQWuq/jUlRUhJ/85CfQarWIi4tDUVGR9LiroqICNTU1bo+/WkMIn838bvW95bUXoTmwDGHl37sd32kbidMDcvFVgcC/DI6DTaZAXDclbujNOHLlJpb9zxmMHOC+u3mFwQy7XXTobCd9gxX51x3Ty1N7RTZ7T+owx0errXV01se5oKG+wYYauSPIxXULR/eI8E7/D9BXfPm57ApYn5axPi1jfbzrarXpNMGnd+/eOH36tNuxsWPHYsmSJZgyZQoAYNq0acjNzcWTTz6JjIwMfPzxx6iqqkJOTg4AYMqUKdi8eTNSU1Oh0+nw+uuvIysrC3379vX7+7lbMgioTm2FOm89ZNbG3i1ruA6L6ubjoMjE4SeGYWR6A1J6OtJt5O01bLYfcQzi/uK8YyG/3lolSmpNsNmFtB5ORzhTegvfXqyGTQDdwuXo18KWFHfLuS5PncmCw5erAQDxMW3ruSMiImqq0wSf1hg+fDheeeUV/OpXv0J5eTni4+OxZcsWREVFAQByc3NhtVoxa9YsGAwGZGdn46233gpom9tCfqsYmn8sR1iJ+/Twhr5jcD75P3Hgb0ZHT4hciSH3NY57iVR6/jX20ChQUusIT0aLrcOCz4uf/4iyOsejN1WYbyYGdgu/HXwabNh/zjGV/clBPXzys4iIKHgEPPgUFBR4PXfw4MFmxyZPnozJkyd7vD4sLAwrVqzAihUrOqx9/iADoDrzJ6i/ex0yi1E6bg/Xwjjsl7DEP4G6unAAP3jcjsFb8NGEy6EKC0G9xQ6j2YaO6phxhh4AHRammnIGn615V2AwO6btZ/aN8snPIiKi4BHw4BPs5PoSRy/PtUNux833j4Lx4ZUQ2j6wK6NhuOkY0Ouph8XbBp+O4BMqBZ/2ulxldJtV5miPb4JPtdExoNng0m6lj3qXiIgoeDD4BIgMgPLHP0P97VqEmBtnKdkVGhgzl8ESPwFC3R2nKmy4WHkDMRrHpp+egoa38BGhCIVaEYpqowX1lrYHn28uVMFqs2NsYiwqDWZM/9PxZtfU1Fs8fGf7jRoY3Wy15tZuf0FEROQNg08AhBrLoTm4AoorX7odN/fOhnH4aoio/rAro/Hd5Vos3XkGAJB2XyQAzyFH3UKPj3PrB2Mbg4/JYsPzu88CAP73F1ocuXzT43XlLo+9OtK45B74vwvVUvhRtHKzUyIiopbw2YGfKQs+Q9Sfx7qFHiFXQ5+9EobHN8Ae+yBsqh6wI1QKPQBw8votAHDbhdzJW4+PThUmjcH5w6ErbWpn6a3GQHO52ojimvoWru548hAZxiU3LnTpq7FEREQUXNjj4ychpmrgk4XQFOx1O27pmQHD8BchdANgV0U7dlIXAjVGz4+Qfpras9kxb8Gnf3c1ZLeXPTKaW79ZKABpNhjgCD6+6tlpiSa88X0p5czoRETUfgw+fhBa+QOi/vYMUF8pHROhShiHLoI5eSqEujvsYZHSVhOV+gaPO56HhsgwckD3Zsddg8/unw/DzpOluFZrQnY/HeJjIjDxj0dw9WY9Gqx2aQ+sOzlbdkv6uspg9hp80m8/gvMFTXjjx5M9PkRE1BEYfPxA/f3bCHEJPZbYh2B4ZA1EdDzs6mjYEea2LObyXWelryc82AN7f7gBwPHoytM4F7PLJp6xEeF47tEB0useGgXUYaEwWmy4VGVAcpz3Jb2tdoGSWhP66lTSozUAuGm04EaT4NMnSomnM+7H2ISY1pTgrkQoXIIPe3yIiKgD8K+JH1h6Zzu+kIfDkLEE+ifegT0uFfaIOEfocaFvsOLcDb30elpab+lrb9PWo1SN91A0CQgymUwa2PyLT0+12M4Pj13F1PeO4cNjV2FyGQx9/GoNim+6j/GJ0YRjelpvdI9QtHjP9nB91OVpbBMREVFb8a+JH5gGz4W136PQaVWwGOywK6MhQhTN9j6pM1mRd3t7BgAYnxyL5B4a6XXTUOOUdl8klo56AAPvsKWDwWyD2Wr3ep+teY4B0Bu/uYTE2MZ7Xa5uPrDZVys2u9K49Pj4ar0gIiIKLuzx8RO7th/QrSfsET1hlzUPPTa7wOStR7Fm7zkAQLQ6DK9OGAR5aOOvSBHq+dclk8kwN6sPRjTZnNTpNxMHSV9fbWF2lmuTGqx2r9cBkKbJ+5JCHiKt1sztKoiIqCMw+PiJEAAUEbB72eH2u0vVqGtonHlV7WFWl+ujn7Z4PCkWfXUqAMAtk/fZXRZbY+Ncxw059bt9D8B/g403/DQF70xPRU5S7J0vJiIiugMGn06g7JYJv9x99o7XdQsPu+M13jj386r1stKyaNIF5ezxcR1XlBzX+NjNHz0+gCNgDeurg0zGxQuJiKj9GHw6AdcZVE6uA5adBvfyPiPrTrRKx/289ficuF7r9toZfO7TNu4C7/q1ystAayIios6Mg5s7Ab3LI64eGgU04XKsfSpZOvaHf3sIeZdvYkZ6b0/f3ipSj4/Jc4/P1Saztpx7e/XRqXC+wgAAuC+q8VGXnNtHEBHRPYjBpxNw7kA+MSUOrzyR1Ox8Rp8oZPSJatfPiFY7pp3f0Js9nq+td+8Jco5FWjLqAfzjvGMNIte1dHpofDeNnYiIyFcYfDoBZ4+Pt3V6OkK/aEdvzeUqIwBg87eXUG204KWcBMhkMq+7rDsDEwD0ilRi538Mw6mSWuQkcZYVERHdexh8OgFnj4/rFg0dbUB3NQDHvltWmx3vHbkKAJiVcT/6d1d7DT4KeQj+PHcoLlUZkdrbsT1FX5fZXURERPcSBp8A+qKgAseKa6Rp7L7s8ekf7Qg+ZXUNKHPZfsJit2P3qVJ8frbc4/fJQ2RIiNUgIVbj8TwREdG9hMEngF7c86Pba9fHSh1NqwpDtDoM1UYLTpc2ziL7oawOrx0o9Pg97RlMTURE1BlxOnuANF03BwAejW++83pHcu6r9cbBC9Kx8zcMbtek9GycMp/ay3c7rxMREQUCg0+AlDfZ7TwmQuHTMT5A46KDtS5r+dzQu7djvMvWEDGcuUVERF0Mg08A3DJZMGnLUbdj4V42Du1IER62vPiqqMrttc5l4UTngGgiIqKugsEnAA5dqm52rLfLqsi+EuGy23lYqOcFCAe5bEuh8+GYIyIiokDg4OYAuFjpWEtnQkocJj4Yh3e+vYRpab4fSOw6a2zqkN74y/fX3c5PSIlDv2g1Nk1LRQ9NuM/bQ0RE5G8MPgFwvdYEAEiIiUBm3yi890y6X36ua4+Pp8dYCx/pBwDI7qfzS3uIiIj8jcEnAJw7pOvUd7/b+t3opmzs8Wk6df7zBVnoGen7x21ERESBxDE+AeBcJVnrYQd2X4pUNv686CahSynnbutERNT1Mfj42fkbemm38yg/Bx+Ny6yupqErPIwfBSIi6vr4186PjGYrnvnge+m1VunfJ40JMY0ztpRNps/7Yzo9ERFRoHGMjx/tOuE+iyrWzzOn4mMj8NqEZMRoFG5BJ1QGhMg8T28nIiLqShh8/OjazXrp67BQWUB6WcYlO1ZmNllsjQcZeoiIKEjw+YYfVdzepqKHRoG//HtmQNuicAldjD1ERBQsGHz85Fy5Hp/98xoAYOGI/uirUwW0Pa6Ptvw9yJqIiChQGHz8wC4EZn/YOKj5Pj9sT9EWPSO5SjMREQUHBh8/aLoT+5D7tAFqibuh9zva8a8P9QpwS4iIiPyDg5v9oFekEmufSoIJIRjzQBTkIZ1jVM2maamoNJjRiys2ExFRkGDw8ZMnH4xDTEw3VFbWQYhAt8YhLDSEoYeIiIIKH3URERFR0GDwISIioqDB4ENERERBg8GHiIiIggaDDxEREQUNBh8iIiIKGgw+REREFDQYfIiIiChoMPgQERFR0GDwISIioqDB4ENERERBg8GHiIiIggaDDxEREQUN7s7ugUzmu3v64t5dAevjHWvTMtanZaxPy1gf7+6l2rSljTIhhPBdU4iIiIg6Dz7qIiIioqDB4ENERERBg8GHiIiIggaDDxEREQUNBh8iIiIKGgw+REREFDQYfIiIiChoMPgQERFR0GDwISIioqDB4ENERERBg8HHD6qqqrB48WJkZmYiOzsbr732GqxWa6Cb5Rfnzp3D/PnzkZWVhREjRmDlypWorq4GAOTn52P69OlIT0/H2LFjsWPHDrfv3bVrF3JycpCWloYpU6bgxIkTgXgLfmGz2TBnzhysXr1aOsb6ADU1NVi5ciWys7MxbNgwLF68GDdu3ADA+gDA2bNnMWvWLGRmZmLkyJF49dVXYTabAQR3faqrq5GTk4MjR45Ix9pTD5vNhvXr1+ORRx5Beno6Fi1aJH0O7zWearNv3z5MnjwZQ4cOxdixY7Fp0ybY7XbpfJerjSCfmz17tnj++eeF0WgUxcXFYsKECWLLli2BbpbP1dfXixEjRojf/e53oqGhQVRXV4sFCxaIhQsXipqaGpGVlSU++ugjYbFYxHfffSfS09NFfn6+EEKIw4cPi/T0dHH8+HFhNpvF9u3bRXZ2tjAajQF+V77x1ltvieTkZLFq1SohhGB9bps9e7bIzc0VtbW1oq6uTixZskQ8++yzrI8QwmaziREjRoj3339f2Gw2UVpaKsaPHy82bdoU1PU5fvy4ePzxx0ViYqI4fPiwEKL9/55+//vfi0mTJomSkhJRV1cnli1bJhYsWBCw93i3PNXm9OnT4qGHHhIHDx4UNptNFBUViTFjxoht27YJIbpmbdjj42NXrlzB0aNH8cILL0ClUqFPnz5YvHgxPv7440A3zedKSkqQnJyM3NxcKBQK6HQ6zJgxA8eOHcP+/fsRFRWFWbNmQS6XY/jw4Zg0aZJUlx07dmDChAnIyMhAWFgY5s2bB51Oh7///e8BflcdLy8vD/v378e4ceOkY6wPcObMGeTn52PdunWIjIyERqPB2rVrsWLFCtYHQG1tLSoqKmC32yFu7zUdEhIClUoVtPXZtWsXVqxYgeXLl7sdb289duzYgQULFqBXr17QaDRYs2YNvvnmG1y9etXv7/FueavN9evXMXPmTIwZMwYhISEYOHAgcnJycOzYMQBdszYMPj5WWFiIqKgoxMXFSccGDhyIkpIS3Lp1K4At870BAwZg69atCA0NlY7t27cPKSkpKCwsRGJiotv18fHxOHfuHACgqKioxfNdRVVVFdasWYM33ngDKpVKOs76AKdOnUJ8fDw+/fRT5OTkYOTIkVi/fj1iY2NZHwA6nQ7z5s3D+vXrkZqaikcffRT9+/fHvHnzgrY+I0eOxIEDB/DUU0+5HW9PPerq6lBWVuZ2PiYmBlqtFgUFBT56Jx3PW23Gjx+PF198UXptMpnw1VdfISUlBUDXrA2Dj48ZDAa3P2gApNdGozEQTQoIIQQ2bNiAL7/8EmvWrPFYF6VSKdXkTue7ArvdjhdeeAHz589HcnKy2znWx9GjUVBQgMuXL2PXrl3YvXs3ysvLsWrVKtYHjs+PUqnEyy+/jJMnT2LPnj24cOECNm7cGLT1iY2NhVwub3a8PfUwGAwAALVa3ey889y9wFttXOn1euTm5kKpVGLevHkAumZtGHx8TK1Wo76+3u2Y83VEREQgmuR3er0ezz33HD7//HN89NFHSEpKgkqlgslkcrvOZDJJNbnT+a7g3XffhUKhwJw5c5qdY30AhUIBAFizZg00Gg1iYmKwbNkyfP311xBCBH19Dhw4gH379uGZZ56BQqFAQkICcnNz8cknn/Dz00R76uH8o9/0/+NdrV4XL17EzJkzYbVa8cEHH0Cj0QDomrVh8PGxhIQE1NTUoLKyUjp24cIF9OzZE926dQtgy/yjuLgYU6dOhV6vx2effYakpCQAQGJiIgoLC92uLSoqQkJCAgBH3Vo63xX89a9/xdGjR5GZmYnMzEzs2bMHe/bsQWZmJusDR3e63W6HxWKRjjlnmgwaNCjo61NaWirN4HKSy+UICwvj56eJ9tRDq9UiLi4ORUVF0rmKigrU1NQ0ewR0r/r6668xffp0jBo1Ctu2bYNWq5XOdcnaBHhwdVB4+umnxfLly0VdXZ00q2vjxo2BbpbP1dTUiNGjR4vVq1cLm83mdq66ulpkZmaK7du3C7PZLPLy8kR6errIy8sTQghp1kVeXp40k2DYsGHi5s2bAXgn/rFq1SppVhfrI4TZbBY5OTli6dKlQq/Xi6qqKjF37lyRm5vL+gghCgsLxeDBg8XmzZuF1WoVxcXFYuLEiWLdunWsjxBuM5faW48NGzaIiRMniuLiYmnm0uzZswP11trNtTYnTpwQKSkpYseOHR6v7Yq1YfDxg4qKCrF06VKRlZUlHn74YbFu3TphtVoD3Syfe++990RiYqIYMmSISEtLc/tPCCFOnTolZsyYIdLT08Vjjz0mdu7c6fb9u3fvFuPHjxdpaWli2rRp4uTJk4F4G37jGnyEYH2EEKKsrEwsW7ZMjBgxQmRmZoqVK1eK2tpaIQTrI4QQhw4dEtOnTxcZGRli9OjR4s033xQNDQ1CCNbH9Y+7EO2rh9lsFr/97W/FqFGjxNChQ8WiRYtEZWWl395LR3OtzcKFC0VSUlKz/0f/7Gc/k67varWRCXF7HiQRERFRF8cxPkRERBQ0GHyIiIgoaDD4EBERUdBg8CEiIqKgweBDREREQYPBh4iIiIIGgw8REREFDQYfIiIiChoMPkRERBQ0GHyIiIgoaDD4EBERUdD4f3urUd/ob5f2AAAAAElFTkSuQmCC",
=======
      "image/png": "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",
>>>>>>> Stashed changes
      "text/plain": [
       "<Figure size 640x480 with 1 Axes>"
      ]
     },
     "metadata": {},
     "output_type": "display_data"
    }
   ],
   "source": [
    "ax = sns.lineplot(data=sp500_data,x=sp500_data.index,y=sp500_data['close']).set_title(\"S&P500 Value since 2012-01-03 until 2016-12-30\")\n",
    "sns.regplot(data=sp500_data, x=sp500_data.index, y=sp500_data['close'], scatter=False)\n",
    "r2=sp.stats.pearsonr(x=sp500_data.index,y=sp500_data['close'])\n",
    "print(r2)"
   ]
  },
  {
   "cell_type": "markdown",
   "metadata": {},
   "source": [
    "# Applying and training model"
   ]
  },
  {
   "cell_type": "markdown",
   "metadata": {},
   "source": [
    "First we will be splitting all our data into test and validation data to apply to the model. Afterwards we will train 3 types of models from scikit. "
   ]
  },
  {
   "cell_type": "code",
<<<<<<< Updated upstream
   "execution_count": 58,
=======
   "execution_count": 66,
>>>>>>> Stashed changes
   "metadata": {},
   "outputs": [],
   "source": [
    "#Features to chose for model from table\n",
    "sp_500_features = ['open','high','low','volume']\n",
    "train_X=sp500_data[sp_500_features]\n",
    "#Target for model\n",
    "train_y=sp500_data['close']"
   ]
  },
  {
   "cell_type": "markdown",
   "metadata": {},
   "source": [
    "The data already used beforehand is all test data, now we will import validation data to test each different model with. This is so we can see just how accurate each model will be."
   ]
  },
  {
   "cell_type": "code",
<<<<<<< Updated upstream
   "execution_count": 59,
=======
   "execution_count": 67,
>>>>>>> Stashed changes
   "metadata": {},
   "outputs": [
    {
     "data": {
      "text/html": [
       "<div>\n",
       "<style scoped>\n",
       "    .dataframe tbody tr th:only-of-type {\n",
       "        vertical-align: middle;\n",
       "    }\n",
       "\n",
       "    .dataframe tbody tr th {\n",
       "        vertical-align: top;\n",
       "    }\n",
       "\n",
       "    .dataframe thead th {\n",
       "        text-align: right;\n",
       "    }\n",
       "</style>\n",
       "<table border=\"1\" class=\"dataframe\">\n",
       "  <thead>\n",
       "    <tr style=\"text-align: right;\">\n",
       "      <th></th>\n",
       "      <th>date</th>\n",
       "      <th>open</th>\n",
       "      <th>high</th>\n",
       "      <th>low</th>\n",
       "      <th>close</th>\n",
       "      <th>adj_close</th>\n",
       "      <th>volume</th>\n",
       "    </tr>\n",
       "  </thead>\n",
       "  <tbody>\n",
       "    <tr>\n",
       "      <th>0</th>\n",
       "      <td>2017-01-03</td>\n",
       "      <td>2251.570068</td>\n",
       "      <td>2263.879883</td>\n",
       "      <td>2245.129883</td>\n",
       "      <td>2257.830078</td>\n",
       "      <td>2257.830078</td>\n",
       "      <td>3770530000</td>\n",
       "    </tr>\n",
       "    <tr>\n",
       "      <th>1</th>\n",
       "      <td>2017-01-04</td>\n",
       "      <td>2261.600098</td>\n",
       "      <td>2272.820068</td>\n",
       "      <td>2261.600098</td>\n",
       "      <td>2270.750000</td>\n",
       "      <td>2270.750000</td>\n",
       "      <td>3764890000</td>\n",
       "    </tr>\n",
       "    <tr>\n",
       "      <th>2</th>\n",
       "      <td>2017-01-05</td>\n",
       "      <td>2268.179932</td>\n",
       "      <td>2271.500000</td>\n",
       "      <td>2260.449951</td>\n",
       "      <td>2269.000000</td>\n",
       "      <td>2269.000000</td>\n",
       "      <td>3761820000</td>\n",
       "    </tr>\n",
       "    <tr>\n",
       "      <th>3</th>\n",
       "      <td>2017-01-06</td>\n",
       "      <td>2271.139893</td>\n",
       "      <td>2282.100098</td>\n",
       "      <td>2264.060059</td>\n",
       "      <td>2276.979980</td>\n",
       "      <td>2276.979980</td>\n",
       "      <td>3339890000</td>\n",
       "    </tr>\n",
       "    <tr>\n",
       "      <th>4</th>\n",
       "      <td>2017-01-09</td>\n",
       "      <td>2273.590088</td>\n",
       "      <td>2275.489990</td>\n",
       "      <td>2268.899902</td>\n",
       "      <td>2268.899902</td>\n",
       "      <td>2268.899902</td>\n",
       "      <td>3217610000</td>\n",
       "    </tr>\n",
       "    <tr>\n",
       "      <th>5</th>\n",
       "      <td>2017-01-10</td>\n",
       "      <td>2269.719971</td>\n",
       "      <td>2279.270020</td>\n",
       "      <td>2265.270020</td>\n",
       "      <td>2268.899902</td>\n",
       "      <td>2268.899902</td>\n",
       "      <td>3638790000</td>\n",
       "    </tr>\n",
       "    <tr>\n",
       "      <th>6</th>\n",
       "      <td>2017-01-11</td>\n",
       "      <td>2268.600098</td>\n",
       "      <td>2275.320068</td>\n",
       "      <td>2260.830078</td>\n",
       "      <td>2275.320068</td>\n",
       "      <td>2275.320068</td>\n",
       "      <td>3620410000</td>\n",
       "    </tr>\n",
       "    <tr>\n",
       "      <th>7</th>\n",
       "      <td>2017-01-12</td>\n",
       "      <td>2271.139893</td>\n",
       "      <td>2271.780029</td>\n",
       "      <td>2254.250000</td>\n",
       "      <td>2270.439941</td>\n",
       "      <td>2270.439941</td>\n",
       "      <td>3462130000</td>\n",
       "    </tr>\n",
       "    <tr>\n",
       "      <th>8</th>\n",
       "      <td>2017-01-13</td>\n",
       "      <td>2272.739990</td>\n",
       "      <td>2278.679932</td>\n",
       "      <td>2271.510010</td>\n",
       "      <td>2274.639893</td>\n",
       "      <td>2274.639893</td>\n",
       "      <td>3081270000</td>\n",
       "    </tr>\n",
       "    <tr>\n",
       "      <th>9</th>\n",
       "      <td>2017-01-17</td>\n",
       "      <td>2269.139893</td>\n",
       "      <td>2272.080078</td>\n",
       "      <td>2262.810059</td>\n",
       "      <td>2267.889893</td>\n",
       "      <td>2267.889893</td>\n",
       "      <td>3584990000</td>\n",
       "    </tr>\n",
       "    <tr>\n",
       "      <th>10</th>\n",
       "      <td>2017-01-18</td>\n",
       "      <td>2269.139893</td>\n",
       "      <td>2272.010010</td>\n",
       "      <td>2263.350098</td>\n",
       "      <td>2271.889893</td>\n",
       "      <td>2271.889893</td>\n",
       "      <td>3315250000</td>\n",
       "    </tr>\n",
       "    <tr>\n",
       "      <th>11</th>\n",
       "      <td>2017-01-19</td>\n",
       "      <td>2271.899902</td>\n",
       "      <td>2274.330078</td>\n",
       "      <td>2258.409912</td>\n",
       "      <td>2263.689941</td>\n",
       "      <td>2263.689941</td>\n",
       "      <td>3165970000</td>\n",
       "    </tr>\n",
       "    <tr>\n",
       "      <th>12</th>\n",
       "      <td>2017-01-20</td>\n",
       "      <td>2269.959961</td>\n",
       "      <td>2276.959961</td>\n",
       "      <td>2265.010010</td>\n",
       "      <td>2271.310059</td>\n",
       "      <td>2271.310059</td>\n",
       "      <td>3524970000</td>\n",
       "    </tr>\n",
       "    <tr>\n",
       "      <th>13</th>\n",
       "      <td>2017-01-23</td>\n",
       "      <td>2267.780029</td>\n",
       "      <td>2271.780029</td>\n",
       "      <td>2257.020020</td>\n",
       "      <td>2265.199951</td>\n",
       "      <td>2265.199951</td>\n",
       "      <td>3152710000</td>\n",
       "    </tr>\n",
       "    <tr>\n",
       "      <th>14</th>\n",
       "      <td>2017-01-24</td>\n",
       "      <td>2267.879883</td>\n",
       "      <td>2284.629883</td>\n",
       "      <td>2266.679932</td>\n",
       "      <td>2280.070068</td>\n",
       "      <td>2280.070068</td>\n",
       "      <td>3810960000</td>\n",
       "    </tr>\n",
       "    <tr>\n",
       "      <th>15</th>\n",
       "      <td>2017-01-25</td>\n",
       "      <td>2288.879883</td>\n",
       "      <td>2299.550049</td>\n",
       "      <td>2288.879883</td>\n",
       "      <td>2298.370117</td>\n",
       "      <td>2298.370117</td>\n",
       "      <td>3846020000</td>\n",
       "    </tr>\n",
       "    <tr>\n",
       "      <th>16</th>\n",
       "      <td>2017-01-26</td>\n",
       "      <td>2298.629883</td>\n",
       "      <td>2300.989990</td>\n",
       "      <td>2294.080078</td>\n",
       "      <td>2296.679932</td>\n",
       "      <td>2296.679932</td>\n",
       "      <td>3610360000</td>\n",
       "    </tr>\n",
       "    <tr>\n",
       "      <th>17</th>\n",
       "      <td>2017-01-27</td>\n",
       "      <td>2299.020020</td>\n",
       "      <td>2299.020020</td>\n",
       "      <td>2291.620117</td>\n",
       "      <td>2294.689941</td>\n",
       "      <td>2294.689941</td>\n",
       "      <td>3135890000</td>\n",
       "    </tr>\n",
       "    <tr>\n",
       "      <th>18</th>\n",
       "      <td>2017-01-30</td>\n",
       "      <td>2286.010010</td>\n",
       "      <td>2286.010010</td>\n",
       "      <td>2268.040039</td>\n",
       "      <td>2280.899902</td>\n",
       "      <td>2280.899902</td>\n",
       "      <td>3591270000</td>\n",
       "    </tr>\n",
       "    <tr>\n",
       "      <th>19</th>\n",
       "      <td>2017-01-31</td>\n",
       "      <td>2274.020020</td>\n",
       "      <td>2279.090088</td>\n",
       "      <td>2267.209961</td>\n",
       "      <td>2278.870117</td>\n",
       "      <td>2278.870117</td>\n",
       "      <td>4087450000</td>\n",
       "    </tr>\n",
       "  </tbody>\n",
       "</table>\n",
       "</div>"
      ],
      "text/plain": [
       "          date         open         high          low        close  \\\n",
       "0   2017-01-03  2251.570068  2263.879883  2245.129883  2257.830078   \n",
       "1   2017-01-04  2261.600098  2272.820068  2261.600098  2270.750000   \n",
       "2   2017-01-05  2268.179932  2271.500000  2260.449951  2269.000000   \n",
       "3   2017-01-06  2271.139893  2282.100098  2264.060059  2276.979980   \n",
       "4   2017-01-09  2273.590088  2275.489990  2268.899902  2268.899902   \n",
       "5   2017-01-10  2269.719971  2279.270020  2265.270020  2268.899902   \n",
       "6   2017-01-11  2268.600098  2275.320068  2260.830078  2275.320068   \n",
       "7   2017-01-12  2271.139893  2271.780029  2254.250000  2270.439941   \n",
       "8   2017-01-13  2272.739990  2278.679932  2271.510010  2274.639893   \n",
       "9   2017-01-17  2269.139893  2272.080078  2262.810059  2267.889893   \n",
       "10  2017-01-18  2269.139893  2272.010010  2263.350098  2271.889893   \n",
       "11  2017-01-19  2271.899902  2274.330078  2258.409912  2263.689941   \n",
       "12  2017-01-20  2269.959961  2276.959961  2265.010010  2271.310059   \n",
       "13  2017-01-23  2267.780029  2271.780029  2257.020020  2265.199951   \n",
       "14  2017-01-24  2267.879883  2284.629883  2266.679932  2280.070068   \n",
       "15  2017-01-25  2288.879883  2299.550049  2288.879883  2298.370117   \n",
       "16  2017-01-26  2298.629883  2300.989990  2294.080078  2296.679932   \n",
       "17  2017-01-27  2299.020020  2299.020020  2291.620117  2294.689941   \n",
       "18  2017-01-30  2286.010010  2286.010010  2268.040039  2280.899902   \n",
       "19  2017-01-31  2274.020020  2279.090088  2267.209961  2278.870117   \n",
       "\n",
       "      adj_close      volume  \n",
       "0   2257.830078  3770530000  \n",
       "1   2270.750000  3764890000  \n",
       "2   2269.000000  3761820000  \n",
       "3   2276.979980  3339890000  \n",
       "4   2268.899902  3217610000  \n",
       "5   2268.899902  3638790000  \n",
       "6   2275.320068  3620410000  \n",
       "7   2270.439941  3462130000  \n",
       "8   2274.639893  3081270000  \n",
       "9   2267.889893  3584990000  \n",
       "10  2271.889893  3315250000  \n",
       "11  2263.689941  3165970000  \n",
       "12  2271.310059  3524970000  \n",
       "13  2265.199951  3152710000  \n",
       "14  2280.070068  3810960000  \n",
       "15  2298.370117  3846020000  \n",
       "16  2296.679932  3610360000  \n",
       "17  2294.689941  3135890000  \n",
       "18  2280.899902  3591270000  \n",
       "19  2278.870117  4087450000  "
      ]
     },
<<<<<<< Updated upstream
     "execution_count": 59,
=======
     "execution_count": 67,
>>>>>>> Stashed changes
     "metadata": {},
     "output_type": "execute_result"
    }
   ],
   "source": [
    "#Reading CSV from document file path\n",
    "sp500_filepath_val=\"/Users/school/Documents/GitHub/Portfolio-Projects/Market Indexes Jupyter Notebook/SP500_test.csv\"\n",
    "sp500_data_val=pd.read_csv(sp500_filepath_val)\n",
    "#Validation features from table\n",
    "val_features = ['open','high','low','volume']\n",
    "val_X=sp500_data_val[val_features]\n",
    "#Validation target for model\n",
    "val_y=sp500_data_val['close']\n",
    "#Preview of Data\n",
    "sp500_data_val"
   ]
  },
  {
   "cell_type": "markdown",
   "metadata": {},
   "source": [
    "The first model is the Linear Regression model. It is a fairly basic model and is not expected to have the greatest accuracy. We will be measuring both mean absolute error and R2 for accuracy of the model"
   ]
  },
  {
   "cell_type": "code",
<<<<<<< Updated upstream
   "execution_count": 47,
=======
   "execution_count": 68,
>>>>>>> Stashed changes
   "metadata": {},
   "outputs": [
    {
     "name": "stdout",
     "output_type": "stream",
     "text": [
<<<<<<< Updated upstream
      "3.094836287929115\n",
      "R2 = 0.8321187028235959\n"
=======
      "3.0921405348678945\n",
      "R2 = 0.8323673977582088\n"
>>>>>>> Stashed changes
     ]
    }
   ],
   "source": [
    "sp500_model_linear = LinearRegression()\n",
    "\n",
    "sp500_model_linear.fit(train_X,train_y)\n",
    "\n",
    "val_predictions = sp500_model_linear.predict(val_X)\n",
    "print(mean_absolute_error(val_y, val_predictions))\n",
    "r_sq = sp500_model_linear.score(val_X, val_y)\n",
    "print('R2 =', r_sq)"
   ]
  },
  {
   "cell_type": "markdown",
   "metadata": {},
   "source": [
    "The second model is the Decision Tree Regressor model, this one may or may not be more accurate in terms of mean absolute error and R2 value."
   ]
  },
  {
   "cell_type": "code",
<<<<<<< Updated upstream
   "execution_count": 48,
=======
   "execution_count": 69,
>>>>>>> Stashed changes
   "metadata": {},
   "outputs": [
    {
     "name": "stdout",
     "output_type": "stream",
     "text": [
<<<<<<< Updated upstream
      "8.835046249999982\n",
=======
      "8.492004350000002\n",
>>>>>>> Stashed changes
      "R2 = 1.0\n"
     ]
    }
   ],
   "source": [
    "sp500_model_tree = DecisionTreeRegressor(random_state=0)\n",
    "sp500_model_tree.fit(train_X,train_y)\n",
    "\n",
    "val_predictions = sp500_model_tree.predict(val_X)\n",
    "print(mean_absolute_error(val_y, val_predictions))\n",
    "r_sq = sp500_model_tree.score(train_X, train_y)\n",
    "print('R2 =', r_sq)"
   ]
  },
  {
   "cell_type": "markdown",
   "metadata": {},
   "source": [
    "For the Decision Tree Regressor model, our mean absolute error is worse, however our R2 is at 1 which then indicates the model is completely accurate to the data. The next one we can try is the Random Forest Regressor model."
   ]
  },
  {
   "cell_type": "code",
<<<<<<< Updated upstream
   "execution_count": 49,
=======
   "execution_count": 70,
>>>>>>> Stashed changes
   "metadata": {},
   "outputs": [
    {
     "name": "stdout",
     "output_type": "stream",
     "text": [
<<<<<<< Updated upstream
      "8.607455085500623\n",
      "R2 = 0.9999078103938878\n"
=======
      "8.837833581000496\n",
      "R2 = 0.9999050548151341\n"
>>>>>>> Stashed changes
     ]
    }
   ],
   "source": [
    "sp500_model_forest = RandomForestRegressor(random_state=0)\n",
    "sp500_model_forest.fit(train_X,train_y)\n",
    "\n",
    "val_predictions = sp500_model_forest.predict(val_X)\n",
    "print(mean_absolute_error(val_y, val_predictions))\n",
    "r_sq = sp500_model_forest.score(train_X, train_y)\n",
    "print('R2 =', r_sq)"
   ]
  },
  {
   "cell_type": "markdown",
   "metadata": {},
   "source": [
    "The Random Forest Regressor Model shows to be lower in R2 compared to the Decision Tree Regressor model, however it's mean absolute error is also more accurate than said model. However, seems the Linear Regression model is the most accurate if absolute mean error is the measure to go by."
   ]
  }
 ],
 "metadata": {
  "kernelspec": {
   "display_name": "Python 3 (ipykernel)",
   "language": "python",
   "name": "python3"
  },
  "language_info": {
   "codemirror_mode": {
    "name": "ipython",
    "version": 3
   },
   "file_extension": ".py",
   "mimetype": "text/x-python",
   "name": "python",
   "nbconvert_exporter": "python",
   "pygments_lexer": "ipython3",
   "version": "3.10.11"
  }
 },
 "nbformat": 4,
 "nbformat_minor": 1
}
