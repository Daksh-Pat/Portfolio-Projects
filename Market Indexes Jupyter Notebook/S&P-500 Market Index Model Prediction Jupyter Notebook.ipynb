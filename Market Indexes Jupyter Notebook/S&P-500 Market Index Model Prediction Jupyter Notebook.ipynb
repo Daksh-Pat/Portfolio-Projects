{
 "cells": [
  {
   "cell_type": "markdown",
   "metadata": {},
   "source": [
    "# Summary"
   ]
  },
  {
   "cell_type": "markdown",
   "metadata": {},
   "source": [
    "By the end of this notebook we will look at the daily close values of the S&P 500 Index from the date of June 3rd, 2013. After which we will assess the linearity of all time records and apply 3 different types of machine learning models and assess which is the greatest fit for predicting the value of the S&P 500 Index."
   ]
  },
  {
   "cell_type": "code",
   "execution_count": 60,
   "metadata": {
    "pycharm": {
     "is_executing": true
    }
   },
   "outputs": [
    {
     "name": "stdout",
     "output_type": "stream",
     "text": [
      "Setup Complete\n"
     ]
    }
   ],
   "source": [
    "import pandas as pd\n",
    "import numpy as np\n",
    "import seaborn as sns\n",
    "import scipy as sp\n",
    "from sklearn.linear_model import LinearRegression\n",
    "from sklearn.tree import DecisionTreeRegressor\n",
    "from sklearn.metrics import mean_absolute_error\n",
    "from sklearn.ensemble import RandomForestRegressor\n",
    "print(\"Setup Complete\")"
   ]
  },
  {
   "cell_type": "code",
   "execution_count": 4,
   "metadata": {},
   "outputs": [
    {
     "data": {
      "text/html": [
       "<div>\n",
       "<style scoped>\n",
       "    .dataframe tbody tr th:only-of-type {\n",
       "        vertical-align: middle;\n",
       "    }\n",
       "\n",
       "    .dataframe tbody tr th {\n",
       "        vertical-align: top;\n",
       "    }\n",
       "\n",
       "    .dataframe thead th {\n",
       "        text-align: right;\n",
       "    }\n",
       "</style>\n",
       "<table border=\"1\" class=\"dataframe\">\n",
       "  <thead>\n",
       "    <tr style=\"text-align: right;\">\n",
       "      <th></th>\n",
       "      <th>date</th>\n",
       "      <th>open</th>\n",
       "      <th>high</th>\n",
       "      <th>low</th>\n",
       "      <th>close</th>\n",
       "      <th>adj_close</th>\n",
       "      <th>volume</th>\n",
       "    </tr>\n",
       "  </thead>\n",
       "  <tbody>\n",
       "    <tr>\n",
       "      <th>0</th>\n",
       "      <td>2012-01-03</td>\n",
       "      <td>1258.859985</td>\n",
       "      <td>1284.619995</td>\n",
       "      <td>1258.859985</td>\n",
       "      <td>1277.060059</td>\n",
       "      <td>1277.060059</td>\n",
       "      <td>3943710000</td>\n",
       "    </tr>\n",
       "    <tr>\n",
       "      <th>1</th>\n",
       "      <td>2012-01-04</td>\n",
       "      <td>1277.030029</td>\n",
       "      <td>1278.729980</td>\n",
       "      <td>1268.099976</td>\n",
       "      <td>1277.300049</td>\n",
       "      <td>1277.300049</td>\n",
       "      <td>3592580000</td>\n",
       "    </tr>\n",
       "    <tr>\n",
       "      <th>2</th>\n",
       "      <td>2012-01-05</td>\n",
       "      <td>1277.300049</td>\n",
       "      <td>1283.050049</td>\n",
       "      <td>1265.260010</td>\n",
       "      <td>1281.060059</td>\n",
       "      <td>1281.060059</td>\n",
       "      <td>4315950000</td>\n",
       "    </tr>\n",
       "    <tr>\n",
       "      <th>3</th>\n",
       "      <td>2012-01-06</td>\n",
       "      <td>1280.930054</td>\n",
       "      <td>1281.839966</td>\n",
       "      <td>1273.339966</td>\n",
       "      <td>1277.810059</td>\n",
       "      <td>1277.810059</td>\n",
       "      <td>3656830000</td>\n",
       "    </tr>\n",
       "    <tr>\n",
       "      <th>4</th>\n",
       "      <td>2012-01-09</td>\n",
       "      <td>1277.829956</td>\n",
       "      <td>1281.989990</td>\n",
       "      <td>1274.550049</td>\n",
       "      <td>1280.699951</td>\n",
       "      <td>1280.699951</td>\n",
       "      <td>3371600000</td>\n",
       "    </tr>\n",
       "    <tr>\n",
       "      <th>...</th>\n",
       "      <td>...</td>\n",
       "      <td>...</td>\n",
       "      <td>...</td>\n",
       "      <td>...</td>\n",
       "      <td>...</td>\n",
       "      <td>...</td>\n",
       "      <td>...</td>\n",
       "    </tr>\n",
       "    <tr>\n",
       "      <th>1253</th>\n",
       "      <td>2016-12-23</td>\n",
       "      <td>2260.250000</td>\n",
       "      <td>2263.790039</td>\n",
       "      <td>2258.840088</td>\n",
       "      <td>2263.790039</td>\n",
       "      <td>2263.790039</td>\n",
       "      <td>2020550000</td>\n",
       "    </tr>\n",
       "    <tr>\n",
       "      <th>1254</th>\n",
       "      <td>2016-12-27</td>\n",
       "      <td>2266.229980</td>\n",
       "      <td>2273.820068</td>\n",
       "      <td>2266.149902</td>\n",
       "      <td>2268.879883</td>\n",
       "      <td>2268.879883</td>\n",
       "      <td>1987080000</td>\n",
       "    </tr>\n",
       "    <tr>\n",
       "      <th>1255</th>\n",
       "      <td>2016-12-28</td>\n",
       "      <td>2270.229980</td>\n",
       "      <td>2271.310059</td>\n",
       "      <td>2249.110107</td>\n",
       "      <td>2249.919922</td>\n",
       "      <td>2249.919922</td>\n",
       "      <td>2392360000</td>\n",
       "    </tr>\n",
       "    <tr>\n",
       "      <th>1256</th>\n",
       "      <td>2016-12-29</td>\n",
       "      <td>2249.500000</td>\n",
       "      <td>2254.510010</td>\n",
       "      <td>2244.560059</td>\n",
       "      <td>2249.260010</td>\n",
       "      <td>2249.260010</td>\n",
       "      <td>2336370000</td>\n",
       "    </tr>\n",
       "    <tr>\n",
       "      <th>1257</th>\n",
       "      <td>2016-12-30</td>\n",
       "      <td>2251.610107</td>\n",
       "      <td>2253.580078</td>\n",
       "      <td>2233.620117</td>\n",
       "      <td>2238.830078</td>\n",
       "      <td>2238.830078</td>\n",
       "      <td>2670900000</td>\n",
       "    </tr>\n",
       "  </tbody>\n",
       "</table>\n",
       "<p>1258 rows × 7 columns</p>\n",
       "</div>"
      ],
      "text/plain": [
       "            date         open         high          low        close  \\\n",
       "0     2012-01-03  1258.859985  1284.619995  1258.859985  1277.060059   \n",
       "1     2012-01-04  1277.030029  1278.729980  1268.099976  1277.300049   \n",
       "2     2012-01-05  1277.300049  1283.050049  1265.260010  1281.060059   \n",
       "3     2012-01-06  1280.930054  1281.839966  1273.339966  1277.810059   \n",
       "4     2012-01-09  1277.829956  1281.989990  1274.550049  1280.699951   \n",
       "...          ...          ...          ...          ...          ...   \n",
       "1253  2016-12-23  2260.250000  2263.790039  2258.840088  2263.790039   \n",
       "1254  2016-12-27  2266.229980  2273.820068  2266.149902  2268.879883   \n",
       "1255  2016-12-28  2270.229980  2271.310059  2249.110107  2249.919922   \n",
       "1256  2016-12-29  2249.500000  2254.510010  2244.560059  2249.260010   \n",
       "1257  2016-12-30  2251.610107  2253.580078  2233.620117  2238.830078   \n",
       "\n",
       "        adj_close      volume  \n",
       "0     1277.060059  3943710000  \n",
       "1     1277.300049  3592580000  \n",
       "2     1281.060059  4315950000  \n",
       "3     1277.810059  3656830000  \n",
       "4     1280.699951  3371600000  \n",
       "...           ...         ...  \n",
       "1253  2263.790039  2020550000  \n",
       "1254  2268.879883  1987080000  \n",
       "1255  2249.919922  2392360000  \n",
       "1256  2249.260010  2336370000  \n",
       "1257  2238.830078  2670900000  \n",
       "\n",
       "[1258 rows x 7 columns]"
      ]
     },
     "execution_count": 4,
     "metadata": {},
     "output_type": "execute_result"
    }
   ],
   "source": [
    "#Reading CSV from document file path\n",
    "sp500_filepath=\"/Users/school/Documents/GitHub/Portfolio-Projects/Market Indexes Jupyter Notebook/SP500_train.csv\"\n",
    "sp500_data=pd.read_csv(sp500_filepath)\n",
    "#Preview of Data\n",
    "sp500_data\n"
   ]
  },
  {
   "cell_type": "markdown",
   "metadata": {},
   "source": [
    "This table can be found at (https://www.kaggle.com/datasets/elvinagammed/sp500-stock-market-index?select=SP500_train.csv). It showcases the daily open, high, low, and close values of the S&P 500 stock market index. It also includes the adjusted and volume traded that day as well."
   ]
  },
  {
   "cell_type": "markdown",
   "metadata": {},
   "source": [
    "We also want to convert the dates in the datetime64 object type as it will be easier to handle than as a string or float64 value."
   ]
  },
  {
   "cell_type": "code",
   "execution_count": 6,
   "metadata": {},
   "outputs": [
    {
     "data": {
      "text/plain": [
       "date         datetime64[ns]\n",
       "open                float64\n",
       "high                float64\n",
       "low                 float64\n",
       "close               float64\n",
       "adj_close           float64\n",
       "volume                int64\n",
       "dtype: object"
      ]
     },
     "execution_count": 6,
     "metadata": {},
     "output_type": "execute_result"
    }
   ],
   "source": [
    "#Parsing date column as datetime64 object type\n",
    "sp500_data['date'] = sp500_data['date'].astype('datetime64[ns]')\n",
    "sp500_data.dtypes"
   ]
  },
  {
   "cell_type": "markdown",
   "metadata": {},
   "source": [
    "# Plotting Data"
   ]
  },
  {
   "cell_type": "markdown",
   "metadata": {},
   "source": [
    "Plotting the data on a lineplot and applying a regression line to see how it fits with the data. Afterwards calculating the R2 value to quantify the linearity of the data."
   ]
  },
  {
   "cell_type": "code",
   "execution_count": 57,
   "metadata": {},
   "outputs": [
    {
     "name": "stdout",
     "output_type": "stream",
     "text": [
      "PearsonRResult(statistic=0.9405716129554352, pvalue=0.0)\n"
     ]
    },
    {
     "data": {
      "image/png": "[encoded data removed]",
      "text/plain": [
       "<Figure size 640x480 with 1 Axes>"
      ]
     },
     "metadata": {},
     "output_type": "display_data"
    }
   ],
   "source": [
    "ax = sns.lineplot(data=sp500_data,x=sp500_data.index,y=sp500_data['close']).set_title(\"S&P500 Value since 2012-01-03 until 2016-12-30\")\n",
    "sns.regplot(data=sp500_data, x=sp500_data.index, y=sp500_data['close'], scatter=False)\n",
    "r2=sp.stats.pearsonr(x=sp500_data.index,y=sp500_data['close'])\n",
    "print(r2)"
   ]
  },
  {
   "cell_type": "markdown",
   "metadata": {},
   "source": [
    "# Applying and training model"
   ]
  },
  {
   "cell_type": "markdown",
   "metadata": {},
   "source": [
    "First we will be splitting all our data into test and validation data to apply to the model. Afterwards we will train 3 types of models from scikit. "
   ]
  },
  {
   "cell_type": "code",
   "execution_count": 58,
   "metadata": {},
   "outputs": [],
   "source": [
    "#Features to chose for model from table\n",
    "sp_500_features = ['open','high','low','volume']\n",
    "train_X=sp500_data[sp_500_features]\n",
    "#Target for model\n",
    "train_y=sp500_data['close']"
   ]
  },
  {
   "cell_type": "markdown",
   "metadata": {},
   "source": [
    "The data already used beforehand is all test data, now we will import validation data to test each different model with. This is so we can see just how accurate each model will be."
   ]
  },
  {
   "cell_type": "code",
   "execution_count": 59,
   "metadata": {},
   "outputs": [
    {
     "data": {
      "text/html": [
       "<div>\n",
       "<style scoped>\n",
       "    .dataframe tbody tr th:only-of-type {\n",
       "        vertical-align: middle;\n",
       "    }\n",
       "\n",
       "    .dataframe tbody tr th {\n",
       "        vertical-align: top;\n",
       "    }\n",
       "\n",
       "    .dataframe thead th {\n",
       "        text-align: right;\n",
       "    }\n",
       "</style>\n",
       "<table border=\"1\" class=\"dataframe\">\n",
       "  <thead>\n",
       "    <tr style=\"text-align: right;\">\n",
       "      <th></th>\n",
       "      <th>date</th>\n",
       "      <th>open</th>\n",
       "      <th>high</th>\n",
       "      <th>low</th>\n",
       "      <th>close</th>\n",
       "      <th>adj_close</th>\n",
       "      <th>volume</th>\n",
       "    </tr>\n",
       "  </thead>\n",
       "  <tbody>\n",
       "    <tr>\n",
       "      <th>0</th>\n",
       "      <td>2017-01-03</td>\n",
       "      <td>2251.570068</td>\n",
       "      <td>2263.879883</td>\n",
       "      <td>2245.129883</td>\n",
       "      <td>2257.830078</td>\n",
       "      <td>2257.830078</td>\n",
       "      <td>3770530000</td>\n",
       "    </tr>\n",
       "    <tr>\n",
       "      <th>1</th>\n",
       "      <td>2017-01-04</td>\n",
       "      <td>2261.600098</td>\n",
       "      <td>2272.820068</td>\n",
       "      <td>2261.600098</td>\n",
       "      <td>2270.750000</td>\n",
       "      <td>2270.750000</td>\n",
       "      <td>3764890000</td>\n",
       "    </tr>\n",
       "    <tr>\n",
       "      <th>2</th>\n",
       "      <td>2017-01-05</td>\n",
       "      <td>2268.179932</td>\n",
       "      <td>2271.500000</td>\n",
       "      <td>2260.449951</td>\n",
       "      <td>2269.000000</td>\n",
       "      <td>2269.000000</td>\n",
       "      <td>3761820000</td>\n",
       "    </tr>\n",
       "    <tr>\n",
       "      <th>3</th>\n",
       "      <td>2017-01-06</td>\n",
       "      <td>2271.139893</td>\n",
       "      <td>2282.100098</td>\n",
       "      <td>2264.060059</td>\n",
       "      <td>2276.979980</td>\n",
       "      <td>2276.979980</td>\n",
       "      <td>3339890000</td>\n",
       "    </tr>\n",
       "    <tr>\n",
       "      <th>4</th>\n",
       "      <td>2017-01-09</td>\n",
       "      <td>2273.590088</td>\n",
       "      <td>2275.489990</td>\n",
       "      <td>2268.899902</td>\n",
       "      <td>2268.899902</td>\n",
       "      <td>2268.899902</td>\n",
       "      <td>3217610000</td>\n",
       "    </tr>\n",
       "    <tr>\n",
       "      <th>5</th>\n",
       "      <td>2017-01-10</td>\n",
       "      <td>2269.719971</td>\n",
       "      <td>2279.270020</td>\n",
       "      <td>2265.270020</td>\n",
       "      <td>2268.899902</td>\n",
       "      <td>2268.899902</td>\n",
       "      <td>3638790000</td>\n",
       "    </tr>\n",
       "    <tr>\n",
       "      <th>6</th>\n",
       "      <td>2017-01-11</td>\n",
       "      <td>2268.600098</td>\n",
       "      <td>2275.320068</td>\n",
       "      <td>2260.830078</td>\n",
       "      <td>2275.320068</td>\n",
       "      <td>2275.320068</td>\n",
       "      <td>3620410000</td>\n",
       "    </tr>\n",
       "    <tr>\n",
       "      <th>7</th>\n",
       "      <td>2017-01-12</td>\n",
       "      <td>2271.139893</td>\n",
       "      <td>2271.780029</td>\n",
       "      <td>2254.250000</td>\n",
       "      <td>2270.439941</td>\n",
       "      <td>2270.439941</td>\n",
       "      <td>3462130000</td>\n",
       "    </tr>\n",
       "    <tr>\n",
       "      <th>8</th>\n",
       "      <td>2017-01-13</td>\n",
       "      <td>2272.739990</td>\n",
       "      <td>2278.679932</td>\n",
       "      <td>2271.510010</td>\n",
       "      <td>2274.639893</td>\n",
       "      <td>2274.639893</td>\n",
       "      <td>3081270000</td>\n",
       "    </tr>\n",
       "    <tr>\n",
       "      <th>9</th>\n",
       "      <td>2017-01-17</td>\n",
       "      <td>2269.139893</td>\n",
       "      <td>2272.080078</td>\n",
       "      <td>2262.810059</td>\n",
       "      <td>2267.889893</td>\n",
       "      <td>2267.889893</td>\n",
       "      <td>3584990000</td>\n",
       "    </tr>\n",
       "    <tr>\n",
       "      <th>10</th>\n",
       "      <td>2017-01-18</td>\n",
       "      <td>2269.139893</td>\n",
       "      <td>2272.010010</td>\n",
       "      <td>2263.350098</td>\n",
       "      <td>2271.889893</td>\n",
       "      <td>2271.889893</td>\n",
       "      <td>3315250000</td>\n",
       "    </tr>\n",
       "    <tr>\n",
       "      <th>11</th>\n",
       "      <td>2017-01-19</td>\n",
       "      <td>2271.899902</td>\n",
       "      <td>2274.330078</td>\n",
       "      <td>2258.409912</td>\n",
       "      <td>2263.689941</td>\n",
       "      <td>2263.689941</td>\n",
       "      <td>3165970000</td>\n",
       "    </tr>\n",
       "    <tr>\n",
       "      <th>12</th>\n",
       "      <td>2017-01-20</td>\n",
       "      <td>2269.959961</td>\n",
       "      <td>2276.959961</td>\n",
       "      <td>2265.010010</td>\n",
       "      <td>2271.310059</td>\n",
       "      <td>2271.310059</td>\n",
       "      <td>3524970000</td>\n",
       "    </tr>\n",
       "    <tr>\n",
       "      <th>13</th>\n",
       "      <td>2017-01-23</td>\n",
       "      <td>2267.780029</td>\n",
       "      <td>2271.780029</td>\n",
       "      <td>2257.020020</td>\n",
       "      <td>2265.199951</td>\n",
       "      <td>2265.199951</td>\n",
       "      <td>3152710000</td>\n",
       "    </tr>\n",
       "    <tr>\n",
       "      <th>14</th>\n",
       "      <td>2017-01-24</td>\n",
       "      <td>2267.879883</td>\n",
       "      <td>2284.629883</td>\n",
       "      <td>2266.679932</td>\n",
       "      <td>2280.070068</td>\n",
       "      <td>2280.070068</td>\n",
       "      <td>3810960000</td>\n",
       "    </tr>\n",
       "    <tr>\n",
       "      <th>15</th>\n",
       "      <td>2017-01-25</td>\n",
       "      <td>2288.879883</td>\n",
       "      <td>2299.550049</td>\n",
       "      <td>2288.879883</td>\n",
       "      <td>2298.370117</td>\n",
       "      <td>2298.370117</td>\n",
       "      <td>3846020000</td>\n",
       "    </tr>\n",
       "    <tr>\n",
       "      <th>16</th>\n",
       "      <td>2017-01-26</td>\n",
       "      <td>2298.629883</td>\n",
       "      <td>2300.989990</td>\n",
       "      <td>2294.080078</td>\n",
       "      <td>2296.679932</td>\n",
       "      <td>2296.679932</td>\n",
       "      <td>3610360000</td>\n",
       "    </tr>\n",
       "    <tr>\n",
       "      <th>17</th>\n",
       "      <td>2017-01-27</td>\n",
       "      <td>2299.020020</td>\n",
       "      <td>2299.020020</td>\n",
       "      <td>2291.620117</td>\n",
       "      <td>2294.689941</td>\n",
       "      <td>2294.689941</td>\n",
       "      <td>3135890000</td>\n",
       "    </tr>\n",
       "    <tr>\n",
       "      <th>18</th>\n",
       "      <td>2017-01-30</td>\n",
       "      <td>2286.010010</td>\n",
       "      <td>2286.010010</td>\n",
       "      <td>2268.040039</td>\n",
       "      <td>2280.899902</td>\n",
       "      <td>2280.899902</td>\n",
       "      <td>3591270000</td>\n",
       "    </tr>\n",
       "    <tr>\n",
       "      <th>19</th>\n",
       "      <td>2017-01-31</td>\n",
       "      <td>2274.020020</td>\n",
       "      <td>2279.090088</td>\n",
       "      <td>2267.209961</td>\n",
       "      <td>2278.870117</td>\n",
       "      <td>2278.870117</td>\n",
       "      <td>4087450000</td>\n",
       "    </tr>\n",
       "  </tbody>\n",
       "</table>\n",
       "</div>"
      ],
      "text/plain": [
       "          date         open         high          low        close  \\\n",
       "0   2017-01-03  2251.570068  2263.879883  2245.129883  2257.830078   \n",
       "1   2017-01-04  2261.600098  2272.820068  2261.600098  2270.750000   \n",
       "2   2017-01-05  2268.179932  2271.500000  2260.449951  2269.000000   \n",
       "3   2017-01-06  2271.139893  2282.100098  2264.060059  2276.979980   \n",
       "4   2017-01-09  2273.590088  2275.489990  2268.899902  2268.899902   \n",
       "5   2017-01-10  2269.719971  2279.270020  2265.270020  2268.899902   \n",
       "6   2017-01-11  2268.600098  2275.320068  2260.830078  2275.320068   \n",
       "7   2017-01-12  2271.139893  2271.780029  2254.250000  2270.439941   \n",
       "8   2017-01-13  2272.739990  2278.679932  2271.510010  2274.639893   \n",
       "9   2017-01-17  2269.139893  2272.080078  2262.810059  2267.889893   \n",
       "10  2017-01-18  2269.139893  2272.010010  2263.350098  2271.889893   \n",
       "11  2017-01-19  2271.899902  2274.330078  2258.409912  2263.689941   \n",
       "12  2017-01-20  2269.959961  2276.959961  2265.010010  2271.310059   \n",
       "13  2017-01-23  2267.780029  2271.780029  2257.020020  2265.199951   \n",
       "14  2017-01-24  2267.879883  2284.629883  2266.679932  2280.070068   \n",
       "15  2017-01-25  2288.879883  2299.550049  2288.879883  2298.370117   \n",
       "16  2017-01-26  2298.629883  2300.989990  2294.080078  2296.679932   \n",
       "17  2017-01-27  2299.020020  2299.020020  2291.620117  2294.689941   \n",
       "18  2017-01-30  2286.010010  2286.010010  2268.040039  2280.899902   \n",
       "19  2017-01-31  2274.020020  2279.090088  2267.209961  2278.870117   \n",
       "\n",
       "      adj_close      volume  \n",
       "0   2257.830078  3770530000  \n",
       "1   2270.750000  3764890000  \n",
       "2   2269.000000  3761820000  \n",
       "3   2276.979980  3339890000  \n",
       "4   2268.899902  3217610000  \n",
       "5   2268.899902  3638790000  \n",
       "6   2275.320068  3620410000  \n",
       "7   2270.439941  3462130000  \n",
       "8   2274.639893  3081270000  \n",
       "9   2267.889893  3584990000  \n",
       "10  2271.889893  3315250000  \n",
       "11  2263.689941  3165970000  \n",
       "12  2271.310059  3524970000  \n",
       "13  2265.199951  3152710000  \n",
       "14  2280.070068  3810960000  \n",
       "15  2298.370117  3846020000  \n",
       "16  2296.679932  3610360000  \n",
       "17  2294.689941  3135890000  \n",
       "18  2280.899902  3591270000  \n",
       "19  2278.870117  4087450000  "
      ]
     },
     "execution_count": 59,
     "metadata": {},
     "output_type": "execute_result"
    }
   ],
   "source": [
    "#Reading CSV from document file path\n",
    "sp500_filepath_val=\"/Users/school/Documents/GitHub/Portfolio-Projects/Market Indexes Jupyter Notebook/SP500_test.csv\"\n",
    "sp500_data_val=pd.read_csv(sp500_filepath_val)\n",
    "#Validation features from table\n",
    "val_features = ['open','high','low','volume']\n",
    "val_X=sp500_data_val[val_features]\n",
    "#Validation target for model\n",
    "val_y=sp500_data_val['close']\n",
    "#Preview of Data\n",
    "sp500_data_val"
   ]
  },
  {
   "cell_type": "markdown",
   "metadata": {},
   "source": [
    "The first model is the Linear Regression model. It is a fairly basic model and is not expected to have the greatest accuracy. We will be measuring both mean absolute error and R2 for accuracy of the model"
   ]
  },
  {
   "cell_type": "code",
   "execution_count": 47,
   "metadata": {},
   "outputs": [
    {
     "name": "stdout",
     "output_type": "stream",
     "text": [
      "3.094836287929115\n",
      "R2 = 0.8321187028235959\n"
     ]
    }
   ],
   "source": [
    "sp500_model_linear = LinearRegression()\n",
    "\n",
    "sp500_model_linear.fit(train_X,train_y)\n",
    "\n",
    "val_predictions = sp500_model_linear.predict(val_X)\n",
    "print(mean_absolute_error(val_y, val_predictions))\n",
    "r_sq = sp500_model_linear.score(val_X, val_y)\n",
    "print('R2 =', r_sq)"
   ]
  },
  {
   "cell_type": "markdown",
   "metadata": {},
   "source": [
    "The second model is the Decision Tree Regressor model, this one may or may not be more accurate in terms of mean absolute error and R2 value."
   ]
  },
  {
   "cell_type": "code",
   "execution_count": 48,
   "metadata": {},
   "outputs": [
    {
     "name": "stdout",
     "output_type": "stream",
     "text": [
      "8.835046249999982\n",
      "R2 = 1.0\n"
     ]
    }
   ],
   "source": [
    "sp500_model_tree = DecisionTreeRegressor(random_state=0)\n",
    "sp500_model_tree.fit(train_X,train_y)\n",
    "\n",
    "val_predictions = sp500_model_tree.predict(val_X)\n",
    "print(mean_absolute_error(val_y, val_predictions))\n",
    "r_sq = sp500_model_tree.score(train_X, train_y)\n",
    "print('R2 =', r_sq)"
   ]
  },
  {
   "cell_type": "markdown",
   "metadata": {},
   "source": [
    "For the Decision Tree Regressor model, our mean absolute error is worse, however our R2 is at 1 which then indicates the model is completely accurate to the data. The next one we can try is the Random Forest Regressor model."
   ]
  },
  {
   "cell_type": "code",
   "execution_count": 49,
   "metadata": {},
   "outputs": [
    {
     "name": "stdout",
     "output_type": "stream",
     "text": [
      "8.607455085500623\n",
      "R2 = 0.9999078103938878\n"
     ]
    }
   ],
   "source": [
    "sp500_model_forest = RandomForestRegressor(random_state=0)\n",
    "sp500_model_forest.fit(train_X,train_y)\n",
    "\n",
    "val_predictions = sp500_model_forest.predict(val_X)\n",
    "print(mean_absolute_error(val_y, val_predictions))\n",
    "r_sq = sp500_model_forest.score(train_X, train_y)\n",
    "print('R2 =', r_sq)"
   ]
  },
  {
   "cell_type": "markdown",
   "metadata": {},
   "source": [
    "The Random Forest Regressor Model shows to be lower in R2 compared to the Decision Tree Regressor model, however it's mean absolute error is also more accurate than said model. However, seems the Linear Regression model is the most accurate if absolute mean error is the measure to go by."
   ]
  }
 ],
 "metadata": {
  "kernelspec": {
   "display_name": "Python 3 (ipykernel)",
   "language": "python",
   "name": "python3"
  },
  "language_info": {
   "codemirror_mode": {
    "name": "ipython",
    "version": 3
   },
   "file_extension": ".py",
   "mimetype": "text/x-python",
   "name": "python",
   "nbconvert_exporter": "python",
   "pygments_lexer": "ipython3",
   "version": "3.10.11"
  }
 },
 "nbformat": 4,
 "nbformat_minor": 1
}
